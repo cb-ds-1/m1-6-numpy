{
 "cells": [
  {
   "cell_type": "markdown",
   "metadata": {},
   "source": [
    "## 1. What is the Average Height of US Presidents?\n",
    "\n",
    "Aggregates available in NumPy can be extremely useful for summarizing a set of values.\n",
    "As a simple example, let's consider the heights of all US presidents.\n",
    "\n",
    "This data is available in the file *president_heights.csv*, which is a simple comma-separated list of labels and values.\n",
    "\n",
    "Find the mean height, the standard deviation of height, and the president who is the smallest and tallest.\n",
    "\n",
    "You can use `pandas` to read in the file if you want, then cast the column to a `np.array`"
   ]
  },
  {
   "cell_type": "code",
   "execution_count": 24,
   "metadata": {},
   "outputs": [],
   "source": [
    "import pandas as pd\n",
    "import numpy as np\n",
    "file1 = 'data/president_heights.csv'\n",
    "df_heights = pd.read_csv(file1)\n",
    "height_np = np.array(df_heights['height(cm)'])"
   ]
  },
  {
   "cell_type": "code",
   "execution_count": 25,
   "metadata": {},
   "outputs": [
    {
     "name": "stdout",
     "output_type": "stream",
     "text": [
      "Answer 1.1: The average height is 179.74 cm.\n",
      "Answer 1.2: The standard deviation is 6.93 cm.\n",
      "Answer 1.3: The smallest person is James Madison.\n",
      "Answer 1.4: The tallest persons are Abraham Lincoln and Lyndon B. Johnson.\n"
     ]
    }
   ],
   "source": [
    "#1- Mean height \n",
    "mean_height = np.mean(height_np)\n",
    "print(f\"Answer 1.1: The average height is {mean_height:.2f} cm.\")\n",
    "\n",
    "#2- Standard deviation of heights\n",
    "std_height = np.std(height_np)\n",
    "print(f\"Answer 1.2: The standard deviation is {std_height:.2f} cm.\")\n",
    "\n",
    "#3- Person with minimum height\n",
    "min_height = np.min(height_np)\n",
    "name_min_height = df_heights[df_heights['height(cm)'] == min_height][['name']]\n",
    "print(f\"Answer 1.3: The smallest person is {name_min_height.iloc[0][0]}.\")\n",
    "\n",
    "#4- Person with maximum height \n",
    "max_height = np.max(height_np)\n",
    "names_max_height = df_heights[df_heights['height(cm)'] == max_height]['name']\n",
    "names_max_height_str = (' and ').join(names_max_height)\n",
    "print(f\"Answer 1.4: The tallest persons are {names_max_height_str}.\")"
   ]
  },
  {
   "cell_type": "markdown",
   "metadata": {},
   "source": [
    "# Exercise 2\n",
    "\n",
    "Recall the polynomial formula\n",
    "\n",
    "$$\n",
    "p(x) = a_0 + a_1 x + a_2 x^2 + \\cdots a_N x^N = \\sum_{n=0}^N a_n x^n \\tag{1}\n",
    "$$\n",
    "\n",
    "In the **math functions workshop**, you wrote a simple function `p(x, coeff)` to evaluate it without thinking about efficiency.\n",
    "\n",
    "Now write a new function that does the same job, but uses NumPy arrays and array operations for its computations, rather than any form of Python loop.\n",
    "\n",
    "(This is already implemented in `np.poly1d`, but use that only to test your function)\n",
    "\n",
    "- Hint: Use `np.cumprod()`  \n"
   ]
  },
  {
   "cell_type": "code",
   "execution_count": 26,
   "metadata": {},
   "outputs": [
    {
     "name": "stdout",
     "output_type": "stream",
     "text": [
      "Result from built function with numpy : 4\n",
      "Result from np.poly1d : 4\n",
      "Does the result of the polynomial function built with numpy equals the numpy poly1d function? True\n"
     ]
    }
   ],
   "source": [
    "def p(x, coeff):\n",
    "    powers = np.arange(len(coeff))[::-1]\n",
    "    values = np.array(coeff)*x**powers\n",
    "    res = np.sum(values)\n",
    "    return res\n",
    "\n",
    "#Test if function equals to np.poly1d\n",
    "#Input parameters\n",
    "x0 = 2\n",
    "coeff0 = np.arange(3)\n",
    "\n",
    "#Results\n",
    "poly = p(x0, coeff0)\n",
    "poly1d = np.poly1d(coeff0)\n",
    "\n",
    "#Display\n",
    "print(f\"Result from built function with numpy : {poly}\")\n",
    "print(f\"Result from np.poly1d : {poly1d(x0)}\")\n",
    "print(f\"Does the result of the polynomial function built with numpy equals the numpy poly1d function?\\\n",
    " {p(2, coeff0) == poly1d(x0)}\")"
   ]
  },
  {
   "cell_type": "markdown",
   "metadata": {},
   "source": [
    "## Exercise 3 Softmax\n",
    "\n",
    "Read in `data/iris.csv` and compute the [softmax]() of the sepal length. The formula for the softmax function $\\sigma(x)$ for a vector $x = \\{x_0, x_1, ..., x_{n-1}\\}$ is\n",
    "    .$$\\sigma(x)_j = \\frac{e^{x_j}}{\\sum_k e^{x_k}}$$\n",
    "\n",
    "\n",
    "Your result should be equal to the output of `scipy.special.softmax`"
   ]
  },
  {
   "cell_type": "code",
   "execution_count": 27,
   "metadata": {},
   "outputs": [
    {
     "name": "stdout",
     "output_type": "stream",
     "text": [
      "Does the code generates the same values as scipy.special.softmax? True\n",
      "\n"
     ]
    }
   ],
   "source": [
    "from scipy.special import softmax\n",
    "\n",
    "file3 = 'data/iris.csv'\n",
    "df_iris = pd.read_csv(file3)\n",
    "sepal_lengths = df_iris['sepallength']\n",
    "\n",
    "denominator = np.sum(np.exp(sepal_lengths))\n",
    "sigmas = round(np.exp(sepal_lengths)/denominator, 4)\n",
    "scipy_softmax_fn = round(softmax(sepal_lengths),4)\n",
    "\n",
    "#Test\n",
    "print(f\"Does the code generates the same values as scipy.special.softmax? {np.array_equal(sigmas, scipy_softmax_fn)}\\n\")\n",
    "# print(sigmas)\n",
    "# print(scipy_softmax_fn)"
   ]
  },
  {
   "cell_type": "markdown",
   "metadata": {},
   "source": [
    "## Exercise 4: unique counts\n",
    "\n",
    "\n",
    "Compute the counts of unique values row-wise.\n",
    "\n",
    "Input:\n",
    "```\n",
    "np.random.seed(100)\n",
    "arr = np.random.randint(1,11,size=(6, 10))\n",
    "arr\n",
    "> array([[ 9,  9,  4,  8,  8,  1,  5,  3,  6,  3],\n",
    ">        [ 3,  3,  2,  1,  9,  5,  1, 10,  7,  3],\n",
    ">        [ 5,  2,  6,  4,  5,  5,  4,  8,  2,  2],\n",
    ">        [ 8,  8,  1,  3, 10, 10,  4,  3,  6,  9],\n",
    ">        [ 2,  1,  8,  7,  3,  1,  9,  3,  6,  2],\n",
    ">        [ 9,  2,  6,  5,  3,  9,  4,  6,  1, 10]])\n",
    "```\n",
    "Desired Output:\n",
    "```\n",
    "> [[1, 0, 2, 1, 1, 1, 0, 2, 2, 0],\n",
    ">  [2, 1, 3, 0, 1, 0, 1, 0, 1, 1],\n",
    ">  [0, 3, 0, 2, 3, 1, 0, 1, 0, 0],\n",
    ">  [1, 0, 2, 1, 0, 1, 0, 2, 1, 2],\n",
    ">  [2, 2, 2, 0, 0, 1, 1, 1, 1, 0],\n",
    ">  [1, 1, 1, 1, 1, 2, 0, 0, 2, 1]]\n",
    "```\n",
    "Output contains 10 columns representing numbers from 1 to 10. The values are the counts of the numbers in the respective rows.\n",
    "For example, Cell(0,2) has the value 2, which means, the number 3 occurs exactly 2 times in the 1st row."
   ]
  },
  {
   "cell_type": "code",
   "execution_count": 28,
   "metadata": {},
   "outputs": [
    {
     "name": "stdout",
     "output_type": "stream",
     "text": [
      "[[1. 0. 2. 1. 1. 1. 0. 2. 2. 0.]\n",
      " [2. 1. 3. 0. 1. 0. 1. 0. 1. 1.]\n",
      " [0. 3. 0. 2. 3. 1. 0. 1. 0. 0.]\n",
      " [1. 0. 2. 1. 0. 1. 0. 2. 1. 2.]\n",
      " [2. 2. 2. 0. 0. 1. 1. 1. 1. 0.]\n",
      " [1. 1. 1. 1. 1. 2. 0. 0. 2. 1.]]\n"
     ]
    }
   ],
   "source": [
    "def count_numbers(array):\n",
    "    #Initialize empty array\n",
    "    x,y=array.shape\n",
    "    output= np.empty([x,y])\n",
    "    \n",
    "    #Calculate count for each number in nested arrays\n",
    "    for i in range(x):\n",
    "        for j in range(1,11):\n",
    "            count = np.count_nonzero(array[i] == j)\n",
    "            output[i][j-1] = count\n",
    "    return output\n",
    "\n",
    "#Test\n",
    "np.random.seed(100)\n",
    "arr = np.random.randint(1,11,size=(6, 10))\n",
    "print(count_numbers(arr))"
   ]
  },
  {
   "cell_type": "markdown",
   "metadata": {},
   "source": [
    "## Exercise 5: One-Hot encodings\n",
    "\n",
    "Compute the one-hot encodings (AKA dummy binary variables) for each unique value in the array.\n",
    "\n",
    "Input:\n",
    "```\n",
    "np.random.seed(101) \n",
    "arr = np.random.randint(1,4, size=6)\n",
    "arr\n",
    "#> array([2, 3, 2, 2, 2, 1])\n",
    "```\n",
    "Output:\n",
    "```\n",
    "#> array([[ 0.,  1.,  0.],\n",
    "#>        [ 0.,  0.,  1.],\n",
    "#>        [ 0.,  1.,  0.],\n",
    "#>        [ 0.,  1.,  0.],\n",
    "#>        [ 0.,  1.,  0.],\n",
    "#>        [ 1.,  0.,  0.]])\n",
    "```"
   ]
  },
  {
   "cell_type": "code",
   "execution_count": 29,
   "metadata": {},
   "outputs": [
    {
     "name": "stdout",
     "output_type": "stream",
     "text": [
      "[2 3 2 2 2 1]\n"
     ]
    },
    {
     "data": {
      "text/plain": [
       "array([[0., 1., 0.],\n",
       "       [0., 1., 1.],\n",
       "       [0., 1., 0.],\n",
       "       [0., 1., 0.],\n",
       "       [0., 1., 0.],\n",
       "       [0., 0., 1.]])"
      ]
     },
     "execution_count": 29,
     "metadata": {},
     "output_type": "execute_result"
    }
   ],
   "source": [
    "#Solution implemented with function to convert a number to binary from scratch.\n",
    "import math\n",
    "def num_to_binary(num, size):\n",
    "    binary = []\n",
    "    if num == 0:\n",
    "        binary.append(0)\n",
    "    else:\n",
    "        while (num >0):\n",
    "            remainder = num%2\n",
    "            binary.append(remainder)\n",
    "            num = math.floor(num/2)\n",
    "    binary = binary[::-1]\n",
    "    \n",
    "    length_binary = len(binary)\n",
    "    if length_binary < size:\n",
    "        for i in range(size - length_binary):\n",
    "            binary.insert(0,0)\n",
    "        \n",
    "    return(binary)\n",
    "\n",
    "def one_hot_encoding(array):\n",
    "    output = []\n",
    "    for num in array:\n",
    "        binary = num_to_binary(num,3)\n",
    "        binary = np.array([float(n) for n in binary])\n",
    "        output.append(binary)\n",
    "    return np.array(output)\n",
    "\n",
    "#Test\n",
    "np.random.seed(101) \n",
    "arr = np.random.randint(1,4, size=6)\n",
    "print(arr)\n",
    "one_hot_encoding(arr)"
   ]
  },
  {
   "cell_type": "code",
   "execution_count": 30,
   "metadata": {},
   "outputs": [
    {
     "name": "stdout",
     "output_type": "stream",
     "text": [
      "[2 3 2 2 2 1]\n"
     ]
    },
    {
     "data": {
      "text/plain": [
       "array([[0., 1., 0.],\n",
       "       [0., 1., 1.],\n",
       "       [0., 1., 0.],\n",
       "       [0., 1., 0.],\n",
       "       [0., 1., 0.],\n",
       "       [0., 0., 1.]])"
      ]
     },
     "execution_count": 30,
     "metadata": {},
     "output_type": "execute_result"
    }
   ],
   "source": [
    "#Solution implemented with function to convert a number to binary from numpy. \n",
    "\n",
    "def one_hot_encoding(array):\n",
    "    output = []\n",
    "    for num in array:\n",
    "        binary = np.binary_repr(num, width = 3)\n",
    "        binary = np.array([float(n) for n in binary])\n",
    "        output.append(binary)\n",
    "    return np.array(output)\n",
    "\n",
    "#Test\n",
    "print(arr)\n",
    "one_hot_encoding(arr)\n"
   ]
  },
  {
   "cell_type": "markdown",
   "metadata": {},
   "source": [
    "## Exercise 6\n",
    "\n",
    "Let `q` be a NumPy array of length `n` with `q.sum() == 1`.\n",
    "\n",
    "Suppose that `q` represents a [probability mass function](https://en.wikipedia.org/wiki/Probability_mass_function) over a statistical distribution. Recall that a distribution is an array of probabilities of events.\n",
    "\n",
    "We want to generate a discrete random variable $ x $ such that $ \\mathbb P\\{x = i\\} = q_i $.\n",
    "\n",
    "In other words, `x` takes values in `range(len(q))` and `x = i` with probability `q[i]`.\n",
    "\n",
    "The standard (inverse transform) algorithm is as follows:\n",
    "\n",
    "- Divide the unit interval $ [0, 1] $ into $ n $ subintervals $ I_0, I_1, \\ldots, I_{n-1} $ such that the length of $ I_i $ is $ q_i $.  \n",
    "- Draw a uniform random variable $ U $ on $ [0, 1] $ and return the $ i $ such that $ U \\in I_i $.  \n",
    "\n",
    "\n",
    "The probability of drawing $ i $ is the length of $ I_i $, which is equal to $ q_i $.\n",
    "\n",
    "We can implement the algorithm as follows\n",
    "\n",
    "```python\n",
    "from random import uniform\n",
    "\n",
    "def sample(q):\n",
    "    a = 0.0\n",
    "    U = uniform(0, 1)\n",
    "    for i in range(len(q)):\n",
    "        if a < U <= a + q[i]:\n",
    "            return i\n",
    "        a = a + q[i]\n",
    "```\n",
    "\n",
    "If you can’t see how this works, try thinking through the flow for a simple example, such as `q = [0.25, 0.75]`\n",
    "It helps to sketch the intervals on paper.\n",
    "\n",
    "**Your exercise is to speed it up using NumPy, avoiding explicit loops**\n",
    "\n",
    "- Hint: Use `np.searchsorted` and `np.cumsum`  \n",
    "\n",
    "\n",
    "If you can, implement the functionality as a class called `DiscreteRV`, where\n",
    "\n",
    "- the data for an instance of the class is the vector of probabilities `q`  \n",
    "- the class has a `draw()` method, which returns one draw according to the algorithm described above  \n",
    "\n",
    "\n",
    "If you can, write the method so that `draw(k)` returns `k` draws from `q`."
   ]
  },
  {
   "cell_type": "code",
   "execution_count": 31,
   "metadata": {},
   "outputs": [
    {
     "data": {
      "text/plain": [
       "array([0., 0., 0., 1., 1., 1., 1., 1., 1., 1.])"
      ]
     },
     "execution_count": 31,
     "metadata": {},
     "output_type": "execute_result"
    }
   ],
   "source": [
    "from random import uniform\n",
    "class DiscreteRV():\n",
    "    def __init__(self, data):\n",
    "        self.data = data\n",
    "    \n",
    "    def draw(self, k=1):\n",
    "        output = np.zeros(k)\n",
    "        for i in range(k):\n",
    "            q = self.data\n",
    "            U = uniform(0, 1)\n",
    "            q_np = np.array(q)\n",
    "            q_np = np.cumsum(q_np)\n",
    "            output[i] = np.searchsorted(q_np,U)\n",
    "        return output\n",
    "\n",
    "q = [0.25, 0.75]\n",
    "discrete_rv = DiscreteRV(q)\n",
    "discrete_rv.draw(10)"
   ]
  },
  {
   "cell_type": "markdown",
   "metadata": {},
   "source": [
    "## Exercise 7 Peaks\n",
    "\n",
    "Find all the peaks in a 1D numpy array a. Peaks are points surrounded by smaller values on both sides.\n",
    "\n",
    "Input:\n",
    "```\n",
    "a = np.array([1, 3, 7, 1, 2, 6, 0, 1])\n",
    "```\n",
    "Desired Output:\n",
    "```\n",
    "#> array([2, 5])\n",
    "```\n",
    "where, 2 and 5 are the positions of peak values 7 and 6.\n",
    "\n",
    "### 1. Solve this using a regular python for loop\n",
    "\n",
    "### 2. Solve this using no loops and only numpy functions"
   ]
  },
  {
   "cell_type": "code",
   "execution_count": 32,
   "metadata": {},
   "outputs": [
    {
     "data": {
      "text/plain": [
       "[2, 5]"
      ]
     },
     "execution_count": 32,
     "metadata": {},
     "output_type": "execute_result"
    }
   ],
   "source": [
    "#7.1\n",
    "\n",
    "def find_peak(array):\n",
    "    a = np.copy(array)\n",
    "    result = []\n",
    "    for i in range(1, len(a)-1):\n",
    "        if a[i]> a[i-1] and a[i]>a[i+1]:\n",
    "            result.append(i)\n",
    "    return result\n",
    "\n",
    "arr = np.array([1, 3, 7, 1, 2, 6, 0, 1])\n",
    "find_peak(arr)"
   ]
  },
  {
   "cell_type": "code",
   "execution_count": 33,
   "metadata": {},
   "outputs": [
    {
     "data": {
      "text/plain": [
       "array([2, 5], dtype=int64)"
      ]
     },
     "execution_count": 33,
     "metadata": {},
     "output_type": "execute_result"
    }
   ],
   "source": [
    "#7.2\n",
    "def find_peak(array):\n",
    "    \n",
    "    a = array.copy()\n",
    "    a0 = a[1:-1]\n",
    "    a1 = a[:-2]\n",
    "    a2 = a[2:]\n",
    "    \n",
    "    #if result is positive it means the number at that index is bigger than number to its left\n",
    "    r1 = a0-a1\n",
    "    \n",
    "    #if result is positive it means the number at that index is bigger than number to its right\n",
    "    r2 = a0-a2\n",
    "    \n",
    "    #Convert values to booleans : True if value is +ve and False if value is -ve.\n",
    "    r1 = r1>0.0\n",
    "    r2 = r2>0.0\n",
    "    \n",
    "    #Convert values to numbers : 1 if value is +ve and 0 if value is -ve.\n",
    "    r1 = r1.astype(int)\n",
    "    r2 = r2.astype(int)\n",
    "\n",
    "    #Add r1 and r2\n",
    "    sum_arrays = r1+r2\n",
    "    \n",
    "    #Find indexes where r3 = 2 to find index where the numbers surrounded by lower values are located\n",
    "    r4 = np.where(sum_arrays ==2)\n",
    "    \n",
    "    #Adjust indexes by 1 to account for array manipulation carried out earlier\n",
    "    r5 = r4[0]+1\n",
    "    \n",
    "    return r5\n",
    "\n",
    "find_peak(arr)"
   ]
  },
  {
   "cell_type": "code",
   "execution_count": null,
   "metadata": {},
   "outputs": [],
   "source": []
  }
 ],
 "metadata": {
  "date": 1597540028.6350708,
  "filename": "numpy.rst",
  "kernelspec": {
   "display_name": "Python 3",
   "language": "python",
   "name": "python3"
  },
  "language_info": {
   "codemirror_mode": {
    "name": "ipython",
    "version": 3
   },
   "file_extension": ".py",
   "mimetype": "text/x-python",
   "name": "python",
   "nbconvert_exporter": "python",
   "pygments_lexer": "ipython3",
   "version": "3.8.3"
  },
  "next_doc": {
   "link": "matplotlib",
   "title": "Matplotlib"
  },
  "prev_doc": {
   "link": "need_for_speed",
   "title": "Python for Scientific Computing"
  },
  "title": "NumPy"
 },
 "nbformat": 4,
 "nbformat_minor": 2
}
