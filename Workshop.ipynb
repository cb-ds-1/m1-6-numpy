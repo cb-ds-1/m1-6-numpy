{
 "cells": [
  {
   "cell_type": "code",
   "execution_count": null,
   "metadata": {},
   "outputs": [],
   "source": [
    "# Bruno Ugolini"
   ]
  },
  {
   "cell_type": "markdown",
   "metadata": {},
   "source": [
    "## 1. What is the Average Height of US Presidents?\n",
    "\n",
    "Aggregates available in NumPy can be extremely useful for summarizing a set of values.\n",
    "As a simple example, let's consider the heights of all US presidents.\n",
    "\n",
    "This data is available in the file *president_heights.csv*, which is a simple comma-separated list of labels and values.\n",
    "\n",
    "Find the mean height, the standard deviation of height, and the president who is the smallest and tallest.\n",
    "\n",
    "You can use `pandas` to read in the file if you want, then cast the column to a `np.array`"
   ]
  },
  {
   "cell_type": "code",
   "execution_count": 20,
   "metadata": {},
   "outputs": [
    {
     "output_type": "execute_result",
     "data": {
      "text/plain": [
       "   order               name  height(cm)\n",
       "0      1  George Washington         189\n",
       "1      2         John Adams         170\n",
       "2      3   Thomas Jefferson         189\n",
       "3      4      James Madison         163\n",
       "4      5       James Monroe         183"
      ],
      "text/html": "<div>\n<style scoped>\n    .dataframe tbody tr th:only-of-type {\n        vertical-align: middle;\n    }\n\n    .dataframe tbody tr th {\n        vertical-align: top;\n    }\n\n    .dataframe thead th {\n        text-align: right;\n    }\n</style>\n<table border=\"1\" class=\"dataframe\">\n  <thead>\n    <tr style=\"text-align: right;\">\n      <th></th>\n      <th>order</th>\n      <th>name</th>\n      <th>height(cm)</th>\n    </tr>\n  </thead>\n  <tbody>\n    <tr>\n      <th>0</th>\n      <td>1</td>\n      <td>George Washington</td>\n      <td>189</td>\n    </tr>\n    <tr>\n      <th>1</th>\n      <td>2</td>\n      <td>John Adams</td>\n      <td>170</td>\n    </tr>\n    <tr>\n      <th>2</th>\n      <td>3</td>\n      <td>Thomas Jefferson</td>\n      <td>189</td>\n    </tr>\n    <tr>\n      <th>3</th>\n      <td>4</td>\n      <td>James Madison</td>\n      <td>163</td>\n    </tr>\n    <tr>\n      <th>4</th>\n      <td>5</td>\n      <td>James Monroe</td>\n      <td>183</td>\n    </tr>\n  </tbody>\n</table>\n</div>"
     },
     "metadata": {},
     "execution_count": 20
    }
   ],
   "source": [
    "import numpy as np\n",
    "import pandas as pd\n",
    "\n",
    "# Read in the dataset and look at the first rows.\n",
    "data = pd.read_csv('./data/president_heights.csv')\n",
    "data.head()"
   ]
  },
  {
   "cell_type": "code",
   "execution_count": 21,
   "metadata": {},
   "outputs": [
    {
     "output_type": "stream",
     "name": "stdout",
     "text": [
      "The average height of a US president is 179.74 cm with a standard deviation of 6.93.\n"
     ]
    }
   ],
   "source": [
    "heights = np.array(data['height(cm)'])\n",
    "print(('The average height of a US president '\n",
    "       'is {0:0.2f} cm with a standard deviation '\n",
    "       'of {1:0.2f}.').format(np.average(heights), np.std(heights)))"
   ]
  },
  {
   "cell_type": "code",
   "execution_count": 22,
   "metadata": {},
   "outputs": [
    {
     "output_type": "stream",
     "name": "stdout",
     "text": [
      "The tallest presidents were Abraham Lincoln, Lyndon B. Johnson with a height of 193 cm.\nThe shortest presidents were James Madison with a height of 163 cm.\n"
     ]
    }
   ],
   "source": [
    "max_h = max(heights)\n",
    "min_h = min(heights)\n",
    "tallest = ', '.join(data.name.loc[data['height(cm)'] == max_h])\n",
    "shortest = ', '.join(data.name.loc[data['height(cm)'] == min_h])\n",
    "print(('The tallest presidents were {} '\n",
    "       'with a height of {} cm.').format(tallest, max_h))\n",
    "print(('The shortest presidents were {} '\n",
    "       'with a height of {} cm.').format(shortest, min_h))"
   ]
  },
  {
   "cell_type": "markdown",
   "metadata": {},
   "source": [
    "# Exercise 2\n",
    "\n",
    "Recall the polynomial formula\n",
    "\n",
    "$$\n",
    "p(x) = a_0 + a_1 x + a_2 x^2 + \\cdots a_N x^N = \\sum_{n=0}^N a_n x^n \\tag{1}\n",
    "$$\n",
    "\n",
    "In the **math functions workshop**, you wrote a simple function `p(x, coeff)` to evaluate it without thinking about efficiency.\n",
    "\n",
    "Now write a new function that does the same job, but uses NumPy arrays and array operations for its computations, rather than any form of Python loop.\n",
    "\n",
    "(This is already implemented in `np.poly1d`, but use that only to test your function)\n",
    "\n",
    "- Hint: Use `np.cumprod()`  \n"
   ]
  },
  {
   "cell_type": "code",
   "execution_count": 25,
   "metadata": {},
   "outputs": [
    {
     "output_type": "stream",
     "name": "stdout",
     "text": [
      "My result -> : \t\t-1.34875\nNumpy.poly1d -> : \t-1.34875\n"
     ]
    }
   ],
   "source": [
    "import numpy as np\n",
    "\n",
    "def p(a, x):\n",
    "    \"\"\"\n",
    "    Evaluates a polynomial with coefficients a\n",
    "    and for a value x using the Numpy package.\n",
    "    \"\"\"\n",
    "    # create an array merging the\n",
    "    # coefficients and the x^n terms\n",
    "    b = np.array([a, \n",
    "                  np.array([x ** n for n in range(len(a))])])\n",
    "    # reshape the array properly\n",
    "    b.reshape(2, len(a))\n",
    "    # take cummulative sum across columns\n",
    "    c = np.cumprod(b, axis=0)\n",
    "    # return the sum of the products\n",
    "    return sum(c[1,:])\n",
    "\n",
    "a = np.array([-2.1, 1.3, 0.43, -0.12, 0.14])\n",
    "print(f\"My result -> : \\t\\t{p(a, 0.5):0.5f}\")\n",
    "# validate result agains poly1d\n",
    "pp = np.poly1d(a[::-1])\n",
    "print(f\"Numpy.poly1d -> : \\t{pp(0.5):0.5f}\")"
   ]
  },
  {
   "cell_type": "markdown",
   "metadata": {},
   "source": [
    "## Exercise 3 Softmax\n",
    "\n",
    "Read in `data/iris.csv` and compute the [softmax]() of the sepal length. The formula for the softmax function $\\sigma(x)$ for a vector $x = \\{x_0, x_1, ..., x_{n-1}\\}$ is\n",
    "    .$$\\sigma(x)_j = \\frac{e^{x_j}}{\\sum_k e^{x_k}}$$\n",
    "\n",
    "\n",
    "Your result should be equal to the output of `scipy.special.softmax`"
   ]
  },
  {
   "cell_type": "code",
   "execution_count": 26,
   "metadata": {},
   "outputs": [
    {
     "output_type": "execute_result",
     "data": {
      "text/plain": [
       "   sepallength  sepalwidth  petallength  petalwidth       flower\n",
       "0          5.1         3.5          1.4         0.2  Iris-setosa\n",
       "1          4.9         3.0          1.4         0.2  Iris-setosa\n",
       "2          4.7         3.2          1.3         0.2  Iris-setosa\n",
       "3          4.6         3.1          1.5         0.2  Iris-setosa\n",
       "4          5.0         3.6          1.4         0.2  Iris-setosa"
      ],
      "text/html": "<div>\n<style scoped>\n    .dataframe tbody tr th:only-of-type {\n        vertical-align: middle;\n    }\n\n    .dataframe tbody tr th {\n        vertical-align: top;\n    }\n\n    .dataframe thead th {\n        text-align: right;\n    }\n</style>\n<table border=\"1\" class=\"dataframe\">\n  <thead>\n    <tr style=\"text-align: right;\">\n      <th></th>\n      <th>sepallength</th>\n      <th>sepalwidth</th>\n      <th>petallength</th>\n      <th>petalwidth</th>\n      <th>flower</th>\n    </tr>\n  </thead>\n  <tbody>\n    <tr>\n      <th>0</th>\n      <td>5.1</td>\n      <td>3.5</td>\n      <td>1.4</td>\n      <td>0.2</td>\n      <td>Iris-setosa</td>\n    </tr>\n    <tr>\n      <th>1</th>\n      <td>4.9</td>\n      <td>3.0</td>\n      <td>1.4</td>\n      <td>0.2</td>\n      <td>Iris-setosa</td>\n    </tr>\n    <tr>\n      <th>2</th>\n      <td>4.7</td>\n      <td>3.2</td>\n      <td>1.3</td>\n      <td>0.2</td>\n      <td>Iris-setosa</td>\n    </tr>\n    <tr>\n      <th>3</th>\n      <td>4.6</td>\n      <td>3.1</td>\n      <td>1.5</td>\n      <td>0.2</td>\n      <td>Iris-setosa</td>\n    </tr>\n    <tr>\n      <th>4</th>\n      <td>5.0</td>\n      <td>3.6</td>\n      <td>1.4</td>\n      <td>0.2</td>\n      <td>Iris-setosa</td>\n    </tr>\n  </tbody>\n</table>\n</div>"
     },
     "metadata": {},
     "execution_count": 26
    }
   ],
   "source": [
    "import numpy as np\n",
    "import pandas as pd\n",
    "\n",
    "# Read in the dataset and look at the first rows.\n",
    "data = pd.read_csv('./data/iris.csv')\n",
    "data.head()"
   ]
  },
  {
   "cell_type": "code",
   "execution_count": 28,
   "metadata": {},
   "outputs": [
    {
     "output_type": "execute_result",
     "data": {
      "text/plain": [
       "array([0.00221959, 0.00181724, 0.00148783, 0.00134625, 0.00200836,\n",
       "       0.00299613, 0.00134625, 0.00200836, 0.00110221, 0.00181724,\n",
       "       0.00299613, 0.00164431, 0.00164431, 0.00099732, 0.0044697 ,\n",
       "       0.00404435, 0.00299613, 0.00221959, 0.00404435, 0.00221959,\n",
       "       0.00299613, 0.00221959, 0.00134625, 0.00221959, 0.00164431,\n",
       "       0.00200836, 0.00200836, 0.00245302, 0.00245302, 0.00148783,\n",
       "       0.00164431, 0.00299613, 0.00245302, 0.00331123, 0.00181724,\n",
       "       0.00200836, 0.00331123, 0.00181724, 0.00110221, 0.00221959,\n",
       "       0.00200836, 0.00121813, 0.00110221, 0.00200836, 0.00221959,\n",
       "       0.00164431, 0.00221959, 0.00134625, 0.00271101, 0.00200836,\n",
       "       0.01483991, 0.00814432, 0.01342771, 0.00331123, 0.00900086,\n",
       "       0.00404435, 0.00736928, 0.00181724, 0.00994749, 0.00245302,\n",
       "       0.00200836, 0.00493978, 0.0054593 , 0.00603346, 0.00365948,\n",
       "       0.01099368, 0.00365948, 0.0044697 , 0.006668  , 0.00365948,\n",
       "       0.00493978, 0.00603346, 0.00736928, 0.00603346, 0.00814432,\n",
       "       0.00994749, 0.01214989, 0.01099368, 0.0054593 , 0.00404435,\n",
       "       0.00331123, 0.00331123, 0.0044697 , 0.0054593 , 0.00299613,\n",
       "       0.0054593 , 0.01099368, 0.00736928, 0.00365948, 0.00331123,\n",
       "       0.00331123, 0.00603346, 0.0044697 , 0.00200836, 0.00365948,\n",
       "       0.00404435, 0.00404435, 0.006668  , 0.00221959, 0.00404435,\n",
       "       0.00736928, 0.0044697 , 0.01640064, 0.00736928, 0.00900086,\n",
       "       0.02704008, 0.00181724, 0.02003179, 0.01099368, 0.01812551,\n",
       "       0.00900086, 0.00814432, 0.01214989, 0.00404435, 0.0044697 ,\n",
       "       0.00814432, 0.00900086, 0.02988391, 0.02988391, 0.0054593 ,\n",
       "       0.01342771, 0.00365948, 0.02988391, 0.00736928, 0.01099368,\n",
       "       0.01812551, 0.006668  , 0.00603346, 0.00814432, 0.01812551,\n",
       "       0.02213855, 0.0365003 , 0.00814432, 0.00736928, 0.00603346,\n",
       "       0.02988391, 0.00736928, 0.00814432, 0.0054593 , 0.01342771,\n",
       "       0.01099368, 0.01342771, 0.0044697 , 0.01214989, 0.01099368,\n",
       "       0.01099368, 0.00736928, 0.00900086, 0.006668  , 0.00493978])"
      ]
     },
     "metadata": {},
     "execution_count": 28
    }
   ],
   "source": [
    "# retrieve the required column as an np.array\n",
    "sepall = np.array(data['sepallength'])\n",
    "\n",
    "# calculate the softmax value using numpy features\n",
    "softmax = np.exp(sepall) / np.sum(np.exp(sepall))\n",
    "softmax"
   ]
  },
  {
   "cell_type": "code",
   "execution_count": 31,
   "metadata": {},
   "outputs": [
    {
     "output_type": "execute_result",
     "data": {
      "text/plain": [
       "array([1.73472348e-18, 1.73472348e-18, 1.30104261e-18, 1.30104261e-18,\n",
       "       2.16840434e-18, 3.03576608e-18, 1.30104261e-18, 2.16840434e-18,\n",
       "       1.08420217e-18, 1.73472348e-18, 3.03576608e-18, 1.51788304e-18,\n",
       "       1.51788304e-18, 8.67361738e-19, 4.33680869e-18, 3.46944695e-18,\n",
       "       3.03576608e-18, 1.73472348e-18, 3.46944695e-18, 1.73472348e-18,\n",
       "       3.03576608e-18, 1.73472348e-18, 1.30104261e-18, 1.73472348e-18,\n",
       "       1.51788304e-18, 2.16840434e-18, 2.16840434e-18, 2.16840434e-18,\n",
       "       2.16840434e-18, 1.30104261e-18, 1.51788304e-18, 3.03576608e-18,\n",
       "       2.16840434e-18, 3.03576608e-18, 1.73472348e-18, 2.16840434e-18,\n",
       "       3.03576608e-18, 1.73472348e-18, 1.08420217e-18, 1.73472348e-18,\n",
       "       2.16840434e-18, 1.08420217e-18, 1.08420217e-18, 2.16840434e-18,\n",
       "       1.73472348e-18, 1.51788304e-18, 1.73472348e-18, 1.30104261e-18,\n",
       "       2.16840434e-18, 2.16840434e-18, 1.56125113e-17, 8.67361738e-18,\n",
       "       1.21430643e-17, 3.03576608e-18, 8.67361738e-18, 3.46944695e-18,\n",
       "       6.07153217e-18, 1.73472348e-18, 8.67361738e-18, 2.16840434e-18,\n",
       "       2.16840434e-18, 4.33680869e-18, 5.20417043e-18, 6.07153217e-18,\n",
       "       3.46944695e-18, 1.04083409e-17, 3.46944695e-18, 4.33680869e-18,\n",
       "       6.93889390e-18, 3.46944695e-18, 4.33680869e-18, 6.07153217e-18,\n",
       "       6.07153217e-18, 6.07153217e-18, 8.67361738e-18, 8.67361738e-18,\n",
       "       1.21430643e-17, 1.04083409e-17, 5.20417043e-18, 3.46944695e-18,\n",
       "       3.03576608e-18, 3.03576608e-18, 4.33680869e-18, 5.20417043e-18,\n",
       "       3.03576608e-18, 5.20417043e-18, 1.04083409e-17, 6.07153217e-18,\n",
       "       3.46944695e-18, 3.03576608e-18, 3.03576608e-18, 6.07153217e-18,\n",
       "       4.33680869e-18, 2.16840434e-18, 3.46944695e-18, 3.46944695e-18,\n",
       "       3.46944695e-18, 6.93889390e-18, 1.73472348e-18, 3.46944695e-18,\n",
       "       6.07153217e-18, 4.33680869e-18, 1.38777878e-17, 6.07153217e-18,\n",
       "       8.67361738e-18, 2.42861287e-17, 1.73472348e-18, 1.73472348e-17,\n",
       "       1.04083409e-17, 1.73472348e-17, 8.67361738e-18, 8.67361738e-18,\n",
       "       1.21430643e-17, 3.46944695e-18, 4.33680869e-18, 8.67361738e-18,\n",
       "       8.67361738e-18, 2.77555756e-17, 2.77555756e-17, 5.20417043e-18,\n",
       "       1.21430643e-17, 3.46944695e-18, 2.77555756e-17, 6.07153217e-18,\n",
       "       1.04083409e-17, 1.73472348e-17, 6.93889390e-18, 6.07153217e-18,\n",
       "       8.67361738e-18, 1.73472348e-17, 2.42861287e-17, 2.77555756e-17,\n",
       "       8.67361738e-18, 6.07153217e-18, 6.07153217e-18, 2.77555756e-17,\n",
       "       6.07153217e-18, 8.67361738e-18, 5.20417043e-18, 1.21430643e-17,\n",
       "       1.04083409e-17, 1.21430643e-17, 4.33680869e-18, 1.21430643e-17,\n",
       "       1.04083409e-17, 1.04083409e-17, 6.07153217e-18, 8.67361738e-18,\n",
       "       6.93889390e-18, 4.33680869e-18])"
      ]
     },
     "metadata": {},
     "execution_count": 31
    }
   ],
   "source": [
    "import scipy\n",
    "#check result against SciPy Softmax\n",
    "scipy.special.softmax(sepall) - softmax"
   ]
  },
  {
   "cell_type": "markdown",
   "metadata": {},
   "source": [
    "## Exercise 4: unique counts\n",
    "\n",
    "\n",
    "Compute the counts of unique values row-wise.\n",
    "\n",
    "Input:\n",
    "```\n",
    "np.random.seed(100)\n",
    "arr = np.random.randint(1,11,size=(6, 10))\n",
    "arr\n",
    "> array([[ 9,  9,  4,  8,  8,  1,  5,  3,  6,  3],\n",
    ">        [ 3,  3,  2,  1,  9,  5,  1, 10,  7,  3],\n",
    ">        [ 5,  2,  6,  4,  5,  5,  4,  8,  2,  2],\n",
    ">        [ 8,  8,  1,  3, 10, 10,  4,  3,  6,  9],\n",
    ">        [ 2,  1,  8,  7,  3,  1,  9,  3,  6,  2],\n",
    ">        [ 9,  2,  6,  5,  3,  9,  4,  6,  1, 10]])\n",
    "```\n",
    "Desired Output:\n",
    "```\n",
    "> [[1, 0, 2, 1, 1, 1, 0, 2, 2, 0],\n",
    ">  [2, 1, 3, 0, 1, 0, 1, 0, 1, 1],\n",
    ">  [0, 3, 0, 2, 3, 1, 0, 1, 0, 0],\n",
    ">  [1, 0, 2, 1, 0, 1, 0, 2, 1, 2],\n",
    ">  [2, 2, 2, 0, 0, 1, 1, 1, 1, 0],\n",
    ">  [1, 1, 1, 1, 1, 2, 0, 0, 2, 1]]\n",
    "```\n",
    "Output contains 10 columns representing numbers from 1 to 10. The values are the counts of the numbers in the respective rows.\n",
    "For example, Cell(0,2) has the value 2, which means, the number 3 occurs exactly 2 times in the 1st row."
   ]
  },
  {
   "cell_type": "code",
   "execution_count": 33,
   "metadata": {},
   "outputs": [
    {
     "output_type": "execute_result",
     "data": {
      "text/plain": [
       "array([[ 9,  9,  4,  8,  8,  1,  5,  3,  6,  3],\n",
       "       [ 3,  3,  2,  1,  9,  5,  1, 10,  7,  3],\n",
       "       [ 5,  2,  6,  4,  5,  5,  4,  8,  2,  2],\n",
       "       [ 8,  8,  1,  3, 10, 10,  4,  3,  6,  9],\n",
       "       [ 2,  1,  8,  7,  3,  1,  9,  3,  6,  2],\n",
       "       [ 9,  2,  6,  5,  3,  9,  4,  6,  1, 10]])"
      ]
     },
     "metadata": {},
     "execution_count": 33
    }
   ],
   "source": [
    "import numpy as np\n",
    "\n",
    "# repeat given code to get arr\n",
    "np.random.seed(100)\n",
    "arr = np.random.randint(1,11,size=(6, 10))\n",
    "arr"
   ]
  },
  {
   "cell_type": "code",
   "execution_count": 34,
   "metadata": {},
   "outputs": [
    {
     "output_type": "stream",
     "name": "stdout",
     "text": [
      "[10 10 10 10 10 10]\n"
     ]
    },
    {
     "output_type": "execute_result",
     "data": {
      "text/plain": [
       "array([[1, 0, 2, 1, 1, 1, 0, 2, 2, 0],\n",
       "       [2, 1, 3, 0, 1, 0, 1, 0, 1, 1],\n",
       "       [0, 3, 0, 2, 3, 1, 0, 1, 0, 0],\n",
       "       [1, 0, 2, 1, 0, 1, 0, 2, 1, 2],\n",
       "       [2, 2, 2, 0, 0, 1, 1, 1, 1, 0],\n",
       "       [1, 1, 1, 1, 1, 2, 0, 0, 2, 1]])"
      ]
     },
     "metadata": {},
     "execution_count": 34
    }
   ],
   "source": [
    "# create array from 1 to 10\n",
    "tst = np.arange(1,11)\n",
    "# create an array of size equal to arr\n",
    "res = np.zeros_like(arr)\n",
    "for i in tst:\n",
    "    # for each number, find matches \n",
    "    # everywhere in array and set = 1\n",
    "    fnd =  np.where(arr == i, 1, 0)\n",
    "    # equate the sums per row with the \n",
    "    # required answer per column\n",
    "    res[:,i-1] = np.sum(fnd, axis=1)\n",
    "# quick check: should have sum of 10 per row\n",
    "print(np.sum(res, axis=1))\n",
    "res"
   ]
  },
  {
   "cell_type": "markdown",
   "metadata": {},
   "source": [
    "## Exercise 5: One-Hot encodings\n",
    "\n",
    "Compute the one-hot encodings (AKA dummy binary variables) for each unique value in the array.\n",
    "\n",
    "Input:\n",
    "```\n",
    "np.random.seed(101) \n",
    "arr = np.random.randint(1,4, size=6)\n",
    "arr\n",
    "#> array([2, 3, 2, 2, 2, 1])\n",
    "```\n",
    "Output:\n",
    "```\n",
    "#> array([[ 0.,  1.,  0.],\n",
    "#>        [ 0.,  0.,  1.],\n",
    "#>        [ 0.,  1.,  0.],\n",
    "#>        [ 0.,  1.,  0.],\n",
    "#>        [ 0.,  1.,  0.],\n",
    "#>        [ 1.,  0.,  0.]])\n",
    "```"
   ]
  },
  {
   "cell_type": "code",
   "execution_count": 35,
   "metadata": {},
   "outputs": [
    {
     "output_type": "stream",
     "name": "stdout",
     "text": [
      "Array = [2 3 2 2 2 1]\n"
     ]
    },
    {
     "output_type": "execute_result",
     "data": {
      "text/plain": [
       "array([[0., 1., 0.],\n",
       "       [0., 0., 1.],\n",
       "       [0., 1., 0.],\n",
       "       [0., 1., 0.],\n",
       "       [0., 1., 0.],\n",
       "       [1., 0., 0.]])"
      ]
     },
     "metadata": {},
     "execution_count": 35
    }
   ],
   "source": [
    "import numpy as np\n",
    "\n",
    "# repeat the code given\n",
    "np.random.seed(101)\n",
    "arr = np.random.randint(1, 4, size=6)\n",
    "print(f\"Array = {arr}\")\n",
    "\n",
    "# initialize the results array with only zeros.\n",
    "res = np.zeros((len(arr), 3))\n",
    "# use fancy indexing to set correct values to\n",
    "res[np.array(list(range(len(arr)))), arr-1] = 1\n",
    "res"
   ]
  },
  {
   "cell_type": "markdown",
   "metadata": {},
   "source": [
    "## Exercise 6\n",
    "\n",
    "Let `q` be a NumPy array of length `n` with `q.sum() == 1`.\n",
    "\n",
    "Suppose that `q` represents a [probability mass function](https://en.wikipedia.org/wiki/Probability_mass_function) over a statistical distribution. Recall that a distribution is an array of probabilities of events.\n",
    "\n",
    "We want to generate a discrete random variable $ x $ such that $ \\mathbb P\\{x = i\\} = q_i $.\n",
    "\n",
    "In other words, `x` takes values in `range(len(q))` and `x = i` with probability `q[i]`.\n",
    "\n",
    "The standard (inverse transform) algorithm is as follows:\n",
    "\n",
    "- Divide the unit interval $ [0, 1] $ into $ n $ subintervals $ I_0, I_1, \\ldots, I_{n-1} $ such that the length of $ I_i $ is $ q_i $.  \n",
    "- Draw a uniform random variable $ U $ on $ [0, 1] $ and return the $ i $ such that $ U \\in I_i $.  \n",
    "\n",
    "\n",
    "The probability of drawing $ i $ is the length of $ I_i $, which is equal to $ q_i $.\n",
    "\n",
    "We can implement the algorithm as follows\n",
    "\n",
    "```python\n",
    "from random import uniform\n",
    "\n",
    "def sample(q):\n",
    "    a = 0.0\n",
    "    U = uniform(0, 1)\n",
    "    for i in range(len(q)):\n",
    "        if a < U <= a + q[i]:\n",
    "            return i\n",
    "        a = a + q[i]\n",
    "```\n",
    "\n",
    "If you can’t see how this works, try thinking through the flow for a simple example, such as `q = [0.25, 0.75]`\n",
    "It helps to sketch the intervals on paper.\n",
    "\n",
    "**Your exercise is to speed it up using NumPy, avoiding explicit loops**\n",
    "\n",
    "- Hint: Use `np.searchsorted` and `np.cumsum`  \n",
    "\n",
    "\n",
    "If you can, implement the functionality as a class called `DiscreteRV`, where\n",
    "\n",
    "- the data for an instance of the class is the vector of probabilities `q`  \n",
    "- the class has a `draw()` method, which returns one draw according to the algorithm described above  \n",
    "\n",
    "\n",
    "If you can, write the method so that `draw(k)` returns `k` draws from `q`."
   ]
  },
  {
   "cell_type": "code",
   "execution_count": 38,
   "metadata": {},
   "outputs": [
    {
     "output_type": "stream",
     "name": "stdout",
     "text": [
      "q => \t\t[0.1  0.25 0.25 0.4 ]\nqcsum => \t[0.1  0.35 0.6  1.  ]\nU => \t\t0.7215438617683047\nresult => \t\t3\n"
     ]
    }
   ],
   "source": [
    "\"\"\"\n",
    "re-cast the code without for loops\n",
    "and using numpy functionality\n",
    "\"\"\"\n",
    "import numpy as np\n",
    "\n",
    "q = np.array([0.10, 0.25, 0.25, 0.4])\n",
    "\n",
    "# re-cast the above intervals into\n",
    "# their absolute endpoints in [0,1]\n",
    "qcsum = np.cumsum(q)\n",
    "\n",
    "U = np.random.uniform(0, 1)\n",
    "\n",
    "# get the interval (and corresponding element\n",
    "# of q where the U lies\n",
    "res = np.searchsorted(qcsum, U)\n",
    "\n",
    "print(f\"q => \\t\\t{q}\")\n",
    "print(f\"qcsum => \\t{qcsum}\")\n",
    "print(f\"U => \\t\\t{U}\")\n",
    "print(f\"result => \\t\\t{res}\")"
   ]
  },
  {
   "cell_type": "code",
   "execution_count": 39,
   "metadata": {},
   "outputs": [
    {
     "output_type": "execute_result",
     "data": {
      "text/plain": [
       "[1, 2, 2, 1, 3]"
      ]
     },
     "metadata": {},
     "execution_count": 39
    }
   ],
   "source": [
    "import numpy as np\n",
    "\n",
    "class DiscreteRV():\n",
    "\n",
    "    def __init__(self, q=None):\n",
    "        try:\n",
    "            self.q = np.asarray(q, dtype='float32')\n",
    "            self.csum = np.cumsum(self.q)\n",
    "        except ValueError:\n",
    "            return 'The array is ill-defined.'\n",
    "\n",
    "    def __repr__(self):\n",
    "        return 'q => ' + str(self.q)\n",
    "\n",
    "    def draw(self, k=1):\n",
    "        res = np.array(k)\n",
    "        U = np.random.uniform(0, 1, size=k)\n",
    "        #print(f\"U: {U}\")\n",
    "        res = [np.searchsorted(self.csum, u) for u in U] \n",
    "        #print(f\"    Result: {res}\")\n",
    "        return res\n",
    "\n",
    "tst = DiscreteRV([0.1, 0.25, 0.25, 0.4])\n",
    "\n",
    "tst.draw(5)\n"
   ]
  },
  {
   "cell_type": "code",
   "execution_count": 46,
   "metadata": {},
   "outputs": [],
   "source": [
    "\"\"\"\n",
    "Testing for a large number of cases \n",
    "to see the convergence of the results.\n",
    "\n",
    "NOTE: I know this was not asked but \n",
    "      I was curious to view results.\n",
    "\"\"\"\n",
    "q = [0.1, 0.1, 0.20, 0.6]\n",
    "qcsum = np.cumsum(q)\n",
    "tst = DiscreteRV(q)\n",
    "# Number of draws\n",
    "N = [50, 200, 1000, 10000]\n",
    "d1 = tst.draw(N[0])\n",
    "d2 = tst.draw(N[1])\n",
    "d3 = tst.draw(N[2])\n",
    "d4 = tst.draw(N[3])\n",
    "\n",
    "# plot results\n",
    "import matplotlib.pyplot as plt\n",
    "\n",
    "\n",
    "fig = plt.figure(figsize=(12, 7), dpi=500)\n",
    "labels = ['N=' + str(i) for i in N]\n",
    "plt.hist([d1, d2, d3, d4], density=True, \n",
    "         label=labels, bins=[0, 1, 2, 3, 4])\n",
    "plt.grid(True)\n",
    "plt.legend()\n",
    "plt.ylabel('Counts normalized to probability density but with equal bin width')\n",
    "plt.title('q = ' + str(q), x=0.5, y=0.9)\n",
    "plt.savefig('Check__PMF.svg', bbox_inches='tight', dpi=500)\n",
    "plt.close(fig)"
   ]
  },
  {
   "source": [
    "<img src=\"Check__PMF.svg\" />"
   ],
   "cell_type": "markdown",
   "metadata": {}
  },
  {
   "cell_type": "markdown",
   "metadata": {},
   "source": [
    "## Exercise 7 Peaks\n",
    "\n",
    "Find all the peaks in a 1D numpy array a. Peaks are points surrounded by smaller values on both sides.\n",
    "\n",
    "Input:\n",
    "```\n",
    "a = np.array([1, 3, 7, 1, 2, 6, 0, 1])\n",
    "```\n",
    "Desired Output:\n",
    "```\n",
    "#> array([2, 5])\n",
    "```\n",
    "where, 2 and 5 are the positions of peak values 7 and 6.\n",
    "\n",
    "### 1. Solve this usign a regular python for loop\n",
    "\n",
    "### 2. Solve this using no loops and only numpy functions"
   ]
  },
  {
   "cell_type": "code",
   "execution_count": 47,
   "metadata": {},
   "outputs": [
    {
     "output_type": "execute_result",
     "data": {
      "text/plain": [
       "[2, 5]"
      ]
     },
     "metadata": {},
     "execution_count": 47
    }
   ],
   "source": [
    "\"\"\"\n",
    "Solution using regular Python\n",
    "for loops (i.e. the way my brain\n",
    "works)\n",
    "\"\"\"\n",
    "a = np.array([1, 3, 7, 1, 2, 6, 0, 1])\n",
    "\n",
    "res = []\n",
    "for i in range(1, len(a)-1):\n",
    "    if a[i-1] < a[i] > a[i+1]:\n",
    "        res.append(i)\n",
    "\n",
    "res"
   ]
  },
  {
   "cell_type": "code",
   "execution_count": 53,
   "metadata": {},
   "outputs": [
    {
     "output_type": "stream",
     "name": "stdout",
     "text": [
      "b(left shift) : \t[3 7 1 2 6 0 1 1]\na(original) : \t\t[1 3 7 1 2 6 0 1]\nb(right shift) : \t[1 1 3 7 1 2 6 0]\nsolution: \t\t[2 5]\n"
     ]
    }
   ],
   "source": [
    "\"\"\"\n",
    "Solution using Numpy functionality\n",
    "\"\"\"\n",
    "a = np.array([1, 3, 7, 1, 2, 6, 0, 1])\n",
    "\n",
    "# shift to the left ...\n",
    "b = np.roll(a, -1)\n",
    "# shift to the right ...\n",
    "c = np.roll(a, 1)\n",
    "res = np.intersect1d(np.where(b < a), np.where(c < a))\n",
    "\n",
    "print(f\"b(left shift) : \\t{b}\")\n",
    "print(f\"a(original) : \\t\\t{a}\")\n",
    "print(f\"b(right shift) : \\t{c}\")\n",
    "print(f\"solution: \\t\\t{res}\")"
   ]
  },
  {
   "cell_type": "code",
   "execution_count": null,
   "metadata": {},
   "outputs": [],
   "source": []
  },
  {
   "cell_type": "code",
   "execution_count": null,
   "metadata": {},
   "outputs": [],
   "source": []
  },
  {
   "cell_type": "code",
   "execution_count": null,
   "metadata": {},
   "outputs": [],
   "source": []
  }
 ],
 "metadata": {
  "date": 1597540028.6350708,
  "filename": "numpy.rst",
  "kernelspec": {
   "display_name": "Python 3",
   "language": "python",
   "name": "python3"
  },
  "language_info": {
   "codemirror_mode": {
    "name": "ipython",
    "version": 3
   },
   "file_extension": ".py",
   "mimetype": "text/x-python",
   "name": "python",
   "nbconvert_exporter": "python",
   "pygments_lexer": "ipython3",
   "version": "3.8.3-final"
  },
  "next_doc": {
   "link": "matplotlib",
   "title": "Matplotlib"
  },
  "prev_doc": {
   "link": "need_for_speed",
   "title": "Python for Scientific Computing"
  },
  "title": "NumPy"
 },
 "nbformat": 4,
 "nbformat_minor": 2
}