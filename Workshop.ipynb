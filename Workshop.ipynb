{
 "cells": [
  {
   "cell_type": "markdown",
   "metadata": {},
   "source": [
    "## 1. What is the Average Height of US Presidents?\n",
    "\n",
    "Aggregates available in NumPy can be extremely useful for summarizing a set of values.\n",
    "As a simple example, let's consider the heights of all US presidents.\n",
    "\n",
    "This data is available in the file *president_heights.csv*, which is a simple comma-separated list of labels and values.\n",
    "\n",
    "Find the mean height, the standard deviation of height, and the president who is the smallest and tallest.\n",
    "\n",
    "You can use `pandas` to read in the file if you want, then cast the column to a `np.array`"
   ]
  },
  {
   "cell_type": "code",
   "execution_count": 64,
   "metadata": {},
   "outputs": [
    {
     "output_type": "execute_result",
     "data": {
      "text/plain": [
       "    order                    name  height(cm)\n",
       "0       1       George Washington         189\n",
       "1       2              John Adams         170\n",
       "2       3        Thomas Jefferson         189\n",
       "3       4           James Madison         163\n",
       "4       5            James Monroe         183\n",
       "5       6       John Quincy Adams         171\n",
       "6       7          Andrew Jackson         185\n",
       "7       8        Martin Van Buren         168\n",
       "8       9  William Henry Harrison         173\n",
       "9      10              John Tyler         183\n",
       "10     11           James K. Polk         173\n",
       "11     12          Zachary Taylor         173\n",
       "12     13        Millard Fillmore         175\n",
       "13     14         Franklin Pierce         178\n",
       "14     15          James Buchanan         183\n",
       "15     16         Abraham Lincoln         193\n",
       "16     17          Andrew Johnson         178\n",
       "17     18        Ulysses S. Grant         173\n",
       "18     19     Rutherford B. Hayes         174\n",
       "19     20       James A. Garfield         183\n",
       "20     21       Chester A. Arthur         183\n",
       "21     23       Benjamin Harrison         168\n",
       "22     25        William McKinley         170\n",
       "23     26      Theodore Roosevelt         178\n",
       "24     27     William Howard Taft         182\n",
       "25     28          Woodrow Wilson         180\n",
       "26     29       Warren G. Harding         183\n",
       "27     30         Calvin Coolidge         178\n",
       "28     31          Herbert Hoover         182\n",
       "29     32   Franklin D. Roosevelt         188\n",
       "30     33         Harry S. Truman         175\n",
       "31     34    Dwight D. Eisenhower         179\n",
       "32     35         John F. Kennedy         183\n",
       "33     36       Lyndon B. Johnson         193\n",
       "34     37           Richard Nixon         182\n",
       "35     38             Gerald Ford         183\n",
       "36     39            Jimmy Carter         177\n",
       "37     40           Ronald Reagan         185\n",
       "38     41       George H. W. Bush         188\n",
       "39     42            Bill Clinton         188\n",
       "40     43          George W. Bush         182\n",
       "41     44            Barack Obama         185"
      ],
      "text/html": "<div>\n<style scoped>\n    .dataframe tbody tr th:only-of-type {\n        vertical-align: middle;\n    }\n\n    .dataframe tbody tr th {\n        vertical-align: top;\n    }\n\n    .dataframe thead th {\n        text-align: right;\n    }\n</style>\n<table border=\"1\" class=\"dataframe\">\n  <thead>\n    <tr style=\"text-align: right;\">\n      <th></th>\n      <th>order</th>\n      <th>name</th>\n      <th>height(cm)</th>\n    </tr>\n  </thead>\n  <tbody>\n    <tr>\n      <th>0</th>\n      <td>1</td>\n      <td>George Washington</td>\n      <td>189</td>\n    </tr>\n    <tr>\n      <th>1</th>\n      <td>2</td>\n      <td>John Adams</td>\n      <td>170</td>\n    </tr>\n    <tr>\n      <th>2</th>\n      <td>3</td>\n      <td>Thomas Jefferson</td>\n      <td>189</td>\n    </tr>\n    <tr>\n      <th>3</th>\n      <td>4</td>\n      <td>James Madison</td>\n      <td>163</td>\n    </tr>\n    <tr>\n      <th>4</th>\n      <td>5</td>\n      <td>James Monroe</td>\n      <td>183</td>\n    </tr>\n    <tr>\n      <th>5</th>\n      <td>6</td>\n      <td>John Quincy Adams</td>\n      <td>171</td>\n    </tr>\n    <tr>\n      <th>6</th>\n      <td>7</td>\n      <td>Andrew Jackson</td>\n      <td>185</td>\n    </tr>\n    <tr>\n      <th>7</th>\n      <td>8</td>\n      <td>Martin Van Buren</td>\n      <td>168</td>\n    </tr>\n    <tr>\n      <th>8</th>\n      <td>9</td>\n      <td>William Henry Harrison</td>\n      <td>173</td>\n    </tr>\n    <tr>\n      <th>9</th>\n      <td>10</td>\n      <td>John Tyler</td>\n      <td>183</td>\n    </tr>\n    <tr>\n      <th>10</th>\n      <td>11</td>\n      <td>James K. Polk</td>\n      <td>173</td>\n    </tr>\n    <tr>\n      <th>11</th>\n      <td>12</td>\n      <td>Zachary Taylor</td>\n      <td>173</td>\n    </tr>\n    <tr>\n      <th>12</th>\n      <td>13</td>\n      <td>Millard Fillmore</td>\n      <td>175</td>\n    </tr>\n    <tr>\n      <th>13</th>\n      <td>14</td>\n      <td>Franklin Pierce</td>\n      <td>178</td>\n    </tr>\n    <tr>\n      <th>14</th>\n      <td>15</td>\n      <td>James Buchanan</td>\n      <td>183</td>\n    </tr>\n    <tr>\n      <th>15</th>\n      <td>16</td>\n      <td>Abraham Lincoln</td>\n      <td>193</td>\n    </tr>\n    <tr>\n      <th>16</th>\n      <td>17</td>\n      <td>Andrew Johnson</td>\n      <td>178</td>\n    </tr>\n    <tr>\n      <th>17</th>\n      <td>18</td>\n      <td>Ulysses S. Grant</td>\n      <td>173</td>\n    </tr>\n    <tr>\n      <th>18</th>\n      <td>19</td>\n      <td>Rutherford B. Hayes</td>\n      <td>174</td>\n    </tr>\n    <tr>\n      <th>19</th>\n      <td>20</td>\n      <td>James A. Garfield</td>\n      <td>183</td>\n    </tr>\n    <tr>\n      <th>20</th>\n      <td>21</td>\n      <td>Chester A. Arthur</td>\n      <td>183</td>\n    </tr>\n    <tr>\n      <th>21</th>\n      <td>23</td>\n      <td>Benjamin Harrison</td>\n      <td>168</td>\n    </tr>\n    <tr>\n      <th>22</th>\n      <td>25</td>\n      <td>William McKinley</td>\n      <td>170</td>\n    </tr>\n    <tr>\n      <th>23</th>\n      <td>26</td>\n      <td>Theodore Roosevelt</td>\n      <td>178</td>\n    </tr>\n    <tr>\n      <th>24</th>\n      <td>27</td>\n      <td>William Howard Taft</td>\n      <td>182</td>\n    </tr>\n    <tr>\n      <th>25</th>\n      <td>28</td>\n      <td>Woodrow Wilson</td>\n      <td>180</td>\n    </tr>\n    <tr>\n      <th>26</th>\n      <td>29</td>\n      <td>Warren G. Harding</td>\n      <td>183</td>\n    </tr>\n    <tr>\n      <th>27</th>\n      <td>30</td>\n      <td>Calvin Coolidge</td>\n      <td>178</td>\n    </tr>\n    <tr>\n      <th>28</th>\n      <td>31</td>\n      <td>Herbert Hoover</td>\n      <td>182</td>\n    </tr>\n    <tr>\n      <th>29</th>\n      <td>32</td>\n      <td>Franklin D. Roosevelt</td>\n      <td>188</td>\n    </tr>\n    <tr>\n      <th>30</th>\n      <td>33</td>\n      <td>Harry S. Truman</td>\n      <td>175</td>\n    </tr>\n    <tr>\n      <th>31</th>\n      <td>34</td>\n      <td>Dwight D. Eisenhower</td>\n      <td>179</td>\n    </tr>\n    <tr>\n      <th>32</th>\n      <td>35</td>\n      <td>John F. Kennedy</td>\n      <td>183</td>\n    </tr>\n    <tr>\n      <th>33</th>\n      <td>36</td>\n      <td>Lyndon B. Johnson</td>\n      <td>193</td>\n    </tr>\n    <tr>\n      <th>34</th>\n      <td>37</td>\n      <td>Richard Nixon</td>\n      <td>182</td>\n    </tr>\n    <tr>\n      <th>35</th>\n      <td>38</td>\n      <td>Gerald Ford</td>\n      <td>183</td>\n    </tr>\n    <tr>\n      <th>36</th>\n      <td>39</td>\n      <td>Jimmy Carter</td>\n      <td>177</td>\n    </tr>\n    <tr>\n      <th>37</th>\n      <td>40</td>\n      <td>Ronald Reagan</td>\n      <td>185</td>\n    </tr>\n    <tr>\n      <th>38</th>\n      <td>41</td>\n      <td>George H. W. Bush</td>\n      <td>188</td>\n    </tr>\n    <tr>\n      <th>39</th>\n      <td>42</td>\n      <td>Bill Clinton</td>\n      <td>188</td>\n    </tr>\n    <tr>\n      <th>40</th>\n      <td>43</td>\n      <td>George W. Bush</td>\n      <td>182</td>\n    </tr>\n    <tr>\n      <th>41</th>\n      <td>44</td>\n      <td>Barack Obama</td>\n      <td>185</td>\n    </tr>\n  </tbody>\n</table>\n</div>"
     },
     "metadata": {},
     "execution_count": 64
    }
   ],
   "source": [
    "import numpy as np\n",
    "import pandas as pd\n",
    "\n",
    "pd.read_csv('/Users/mike_stein612/Desktop/m1-6-numpy/data/president_heights.csv')\n",
    "data = pd.read_csv('/Users/mike_stein612/Desktop/m1-6-numpy/data/president_heights.csv')\n",
    "data"
   ]
  },
  {
   "cell_type": "code",
   "execution_count": 65,
   "metadata": {},
   "outputs": [
    {
     "output_type": "execute_result",
     "data": {
      "text/plain": [
       "order          22.476190\n",
       "height(cm)    179.738095\n",
       "dtype: float64"
      ]
     },
     "metadata": {},
     "execution_count": 65
    }
   ],
   "source": [
    "np.mean(data, axis = 0)# average height is 179.738095"
   ]
  },
  {
   "cell_type": "code",
   "execution_count": 66,
   "metadata": {},
   "outputs": [
    {
     "output_type": "execute_result",
     "data": {
      "text/plain": [
       "order         12.994941\n",
       "height(cm)     6.931843\n",
       "dtype: float64"
      ]
     },
     "metadata": {},
     "execution_count": 66
    }
   ],
   "source": [
    "np.std(data, axis = 0)# standard deviation heights is 6.931843"
   ]
  },
  {
   "cell_type": "code",
   "execution_count": 67,
   "metadata": {},
   "outputs": [
    {
     "output_type": "execute_result",
     "data": {
      "text/plain": [
       "order                       1\n",
       "name          Abraham Lincoln\n",
       "height(cm)                163\n",
       "dtype: object"
      ]
     },
     "metadata": {},
     "execution_count": 67
    }
   ],
   "source": [
    "np.amin(data, axis = 0)#based on height, shortest height is 163cm"
   ]
  },
  {
   "cell_type": "code",
   "execution_count": 68,
   "metadata": {},
   "outputs": [
    {
     "output_type": "execute_result",
     "data": {
      "text/plain": [
       "order                     44\n",
       "name          Zachary Taylor\n",
       "height(cm)               193\n",
       "dtype: object"
      ]
     },
     "metadata": {},
     "execution_count": 68
    }
   ],
   "source": [
    "np.amax(data, axis = 0)# Based on results, tallest height is 193cm"
   ]
  },
  {
   "cell_type": "code",
   "execution_count": 69,
   "metadata": {},
   "outputs": [
    {
     "output_type": "execute_result",
     "data": {
      "text/plain": [
       "(array([3]), array([2]))"
      ]
     },
     "metadata": {},
     "execution_count": 69
    }
   ],
   "source": [
    "np.array(data)\n",
    "np.where(data == 163)#tells us to look at (3,2) --> James Madison"
   ]
  },
  {
   "cell_type": "code",
   "execution_count": 71,
   "metadata": {},
   "outputs": [
    {
     "output_type": "execute_result",
     "data": {
      "text/plain": [
       "(array([15, 33]), array([2, 2]))"
      ]
     },
     "metadata": {},
     "execution_count": 71
    }
   ],
   "source": [
    "np.where(data == 193)#tells us to look at 2 vectors with that height\n",
    "                     #Tallest presidents = Abraham Lincoln and Lyndon B. Johnson"
   ]
  },
  {
   "cell_type": "markdown",
   "metadata": {},
   "source": [
    "# Exercise 2\n",
    "\n",
    "Recall the polynomial formula\n",
    "\n",
    "$$\n",
    "p(x) = a_0 + a_1 x + a_2 x^2 + \\cdots a_N x^N = \\sum_{n=0}^N a_n x^n \\tag{1}\n",
    "$$\n",
    "\n",
    "In the **math functions workshop**, you wrote a simple function `p(x, coeff)` to evaluate it without thinking about efficiency.\n",
    "\n",
    "Now write a new function that does the same job, but uses NumPy arrays and array operations for its computations, rather than any form of Python loop.\n",
    "\n",
    "(This is already implemented in `np.poly1d`, but use that only to test your function)\n",
    "\n",
    "- Hint: Use `np.cumprod()`  \n"
   ]
  },
  {
   "cell_type": "code",
   "execution_count": 37,
   "metadata": {},
   "outputs": [
    {
     "output_type": "stream",
     "name": "stdout",
     "text": [
      "The coefficient values are [2, 1, 1]\nThe cumulative product array of x is [ 1.  5. 25.]\nThe sum of the polynomial function is 32.0\n"
     ]
    }
   ],
   "source": [
    "import numpy as np\n",
    "\n",
    "def poly_numpy(x, coeff):\n",
    "    print(\"The coefficient values are \" + str(coeff))\n",
    "    arr = np.ones(len(coeff))\n",
    "    cumu_prod = arr.copy() #copy for manipulations\n",
    "    cumu_prod[1:] = x #convert all values from index 1 into x\n",
    "    z = np.cumprod(cumu_prod) #multiply all of the x's\n",
    "    print('The cumulative product array of x is ' + str(z))\n",
    "    poly = np.dot(coeff, z) #adds values from 2 arrays together\n",
    "    print(\"The sum of the polynomial function is \" + str(poly))\n",
    "poly_numpy(5, [2,1,1])"
   ]
  },
  {
   "cell_type": "markdown",
   "metadata": {},
   "source": [
    "## Exercise 3 Softmax\n",
    "\n",
    "Read in `data/iris.csv` and compute the [softmax]() of the sepal length. The formula for the softmax function $\\sigma(x)$ for a vector $x = \\{x_0, x_1, ..., x_{n-1}\\}$ is\n",
    "    .$$\\sigma(x)_j = \\frac{e^{x_j}}{\\sum_k e^{x_k}}$$\n",
    "\n",
    "\n",
    "Your result should be equal to the output of `scipy.special.softmax`"
   ]
  },
  {
   "cell_type": "code",
   "execution_count": 38,
   "metadata": {},
   "outputs": [
    {
     "output_type": "execute_result",
     "data": {
      "text/plain": [
       "     sepallength  sepalwidth  petallength  petalwidth          flower\n",
       "0            5.1         3.5          1.4         0.2     Iris-setosa\n",
       "1            4.9         3.0          1.4         0.2     Iris-setosa\n",
       "2            4.7         3.2          1.3         0.2     Iris-setosa\n",
       "3            4.6         3.1          1.5         0.2     Iris-setosa\n",
       "4            5.0         3.6          1.4         0.2     Iris-setosa\n",
       "..           ...         ...          ...         ...             ...\n",
       "145          6.7         3.0          5.2         2.3  Iris-virginica\n",
       "146          6.3         2.5          5.0         1.9  Iris-virginica\n",
       "147          6.5         3.0          5.2         2.0  Iris-virginica\n",
       "148          6.2         3.4          5.4         2.3  Iris-virginica\n",
       "149          5.9         3.0          5.1         1.8  Iris-virginica\n",
       "\n",
       "[150 rows x 5 columns]"
      ],
      "text/html": "<div>\n<style scoped>\n    .dataframe tbody tr th:only-of-type {\n        vertical-align: middle;\n    }\n\n    .dataframe tbody tr th {\n        vertical-align: top;\n    }\n\n    .dataframe thead th {\n        text-align: right;\n    }\n</style>\n<table border=\"1\" class=\"dataframe\">\n  <thead>\n    <tr style=\"text-align: right;\">\n      <th></th>\n      <th>sepallength</th>\n      <th>sepalwidth</th>\n      <th>petallength</th>\n      <th>petalwidth</th>\n      <th>flower</th>\n    </tr>\n  </thead>\n  <tbody>\n    <tr>\n      <th>0</th>\n      <td>5.1</td>\n      <td>3.5</td>\n      <td>1.4</td>\n      <td>0.2</td>\n      <td>Iris-setosa</td>\n    </tr>\n    <tr>\n      <th>1</th>\n      <td>4.9</td>\n      <td>3.0</td>\n      <td>1.4</td>\n      <td>0.2</td>\n      <td>Iris-setosa</td>\n    </tr>\n    <tr>\n      <th>2</th>\n      <td>4.7</td>\n      <td>3.2</td>\n      <td>1.3</td>\n      <td>0.2</td>\n      <td>Iris-setosa</td>\n    </tr>\n    <tr>\n      <th>3</th>\n      <td>4.6</td>\n      <td>3.1</td>\n      <td>1.5</td>\n      <td>0.2</td>\n      <td>Iris-setosa</td>\n    </tr>\n    <tr>\n      <th>4</th>\n      <td>5.0</td>\n      <td>3.6</td>\n      <td>1.4</td>\n      <td>0.2</td>\n      <td>Iris-setosa</td>\n    </tr>\n    <tr>\n      <th>...</th>\n      <td>...</td>\n      <td>...</td>\n      <td>...</td>\n      <td>...</td>\n      <td>...</td>\n    </tr>\n    <tr>\n      <th>145</th>\n      <td>6.7</td>\n      <td>3.0</td>\n      <td>5.2</td>\n      <td>2.3</td>\n      <td>Iris-virginica</td>\n    </tr>\n    <tr>\n      <th>146</th>\n      <td>6.3</td>\n      <td>2.5</td>\n      <td>5.0</td>\n      <td>1.9</td>\n      <td>Iris-virginica</td>\n    </tr>\n    <tr>\n      <th>147</th>\n      <td>6.5</td>\n      <td>3.0</td>\n      <td>5.2</td>\n      <td>2.0</td>\n      <td>Iris-virginica</td>\n    </tr>\n    <tr>\n      <th>148</th>\n      <td>6.2</td>\n      <td>3.4</td>\n      <td>5.4</td>\n      <td>2.3</td>\n      <td>Iris-virginica</td>\n    </tr>\n    <tr>\n      <th>149</th>\n      <td>5.9</td>\n      <td>3.0</td>\n      <td>5.1</td>\n      <td>1.8</td>\n      <td>Iris-virginica</td>\n    </tr>\n  </tbody>\n</table>\n<p>150 rows × 5 columns</p>\n</div>"
     },
     "metadata": {},
     "execution_count": 38
    }
   ],
   "source": [
    "import numpy as np\n",
    "import pandas as pd\n",
    "\n",
    "pd.read_csv('/Users/mike_stein612/Desktop/m1-6-numpy/data/iris.csv')\n",
    "a = pd.read_csv('/Users/mike_stein612/Desktop/m1-6-numpy/data/iris.csv')\n",
    "a"
   ]
  },
  {
   "cell_type": "code",
   "execution_count": 39,
   "metadata": {},
   "outputs": [
    {
     "output_type": "execute_result",
     "data": {
      "text/plain": [
       "0      5.1\n",
       "1      4.9\n",
       "2      4.7\n",
       "3      4.6\n",
       "4      5.0\n",
       "      ... \n",
       "145    6.7\n",
       "146    6.3\n",
       "147    6.5\n",
       "148    6.2\n",
       "149    5.9\n",
       "Name: sepallength, Length: 150, dtype: float64"
      ]
     },
     "metadata": {},
     "execution_count": 39
    }
   ],
   "source": [
    "logits = a[\"sepallength\"]\n",
    "logits"
   ]
  },
  {
   "cell_type": "code",
   "execution_count": 52,
   "metadata": {},
   "outputs": [
    {
     "output_type": "execute_result",
     "data": {
      "text/plain": [
       "0      0.002220\n",
       "1      0.001817\n",
       "2      0.001488\n",
       "3      0.001346\n",
       "4      0.002008\n",
       "         ...   \n",
       "145    0.010994\n",
       "146    0.007369\n",
       "147    0.009001\n",
       "148    0.006668\n",
       "149    0.004940\n",
       "Name: sepallength, Length: 150, dtype: float64"
      ]
     },
     "metadata": {},
     "execution_count": 52
    }
   ],
   "source": [
    "def softmax(logits):\n",
    "    return np.exp(logits) / np.sum(np.exp(logits))\n",
    "\n",
    "softmax(logits)"
   ]
  },
  {
   "cell_type": "code",
   "execution_count": 53,
   "metadata": {},
   "outputs": [
    {
     "output_type": "execute_result",
     "data": {
      "text/plain": [
       "0.9999999999999999"
      ]
     },
     "metadata": {},
     "execution_count": 53
    }
   ],
   "source": [
    "np.sum(np.exp(logits) / np.sum(np.exp(logits))) #works since it should equal 1"
   ]
  },
  {
   "cell_type": "markdown",
   "metadata": {},
   "source": [
    "## Exercise 4: unique counts\n",
    "\n",
    "\n",
    "Compute the counts of unique values row-wise.\n",
    "\n",
    "Input:\n",
    "```\n",
    "np.random.seed(100)\n",
    "arr = np.random.randint(1,11,size=(6, 10))\n",
    "arr\n",
    "> array([[ 9,  9,  4,  8,  8,  1,  5,  3,  6,  3],\n",
    ">        [ 3,  3,  2,  1,  9,  5,  1, 10,  7,  3],\n",
    ">        [ 5,  2,  6,  4,  5,  5,  4,  8,  2,  2],\n",
    ">        [ 8,  8,  1,  3, 10, 10,  4,  3,  6,  9],\n",
    ">        [ 2,  1,  8,  7,  3,  1,  9,  3,  6,  2],\n",
    ">        [ 9,  2,  6,  5,  3,  9,  4,  6,  1, 10]])\n",
    "```\n",
    "Desired Output:\n",
    "```\n",
    "> [[1, 0, 2, 1, 1, 1, 0, 2, 2, 0],\n",
    ">  [2, 1, 3, 0, 1, 0, 1, 0, 1, 1],\n",
    ">  [0, 3, 0, 2, 3, 1, 0, 1, 0, 0],\n",
    ">  [1, 0, 2, 1, 0, 1, 0, 2, 1, 2],\n",
    ">  [2, 2, 2, 0, 0, 1, 1, 1, 1, 0],\n",
    ">  [1, 1, 1, 1, 1, 2, 0, 0, 2, 1]]\n",
    "```\n",
    "Output contains 10 columns representing numbers from 1 to 10. The values are the counts of the numbers in the respective rows.\n",
    "For example, Cell(0,2) has the value 2, which means, the number 3 occurs exactly 2 times in the 1st row."
   ]
  },
  {
   "cell_type": "code",
   "execution_count": 54,
   "metadata": {},
   "outputs": [
    {
     "output_type": "execute_result",
     "data": {
      "text/plain": [
       "array([[1., 0., 2., 1., 1., 1., 0., 2., 2., 0.],\n",
       "       [2., 1., 3., 0., 1., 0., 1., 0., 1., 1.],\n",
       "       [0., 3., 0., 2., 3., 1., 0., 1., 0., 0.],\n",
       "       [1., 0., 2., 1., 0., 1., 0., 2., 1., 2.],\n",
       "       [2., 2., 2., 0., 0., 1., 1., 1., 1., 0.],\n",
       "       [1., 1., 1., 1., 1., 2., 0., 0., 2., 1.]])"
      ]
     },
     "metadata": {},
     "execution_count": 54
    }
   ],
   "source": [
    "from collections import Counter\n",
    "import numpy as np\n",
    "\n",
    "np.random.seed(100)\n",
    "arr = np.random.randint(1,11,size=(6, 10))\n",
    "z = np.zeros((6,10))\n",
    "\n",
    "for i in range(len(arr)):\n",
    "    count = (Counter(arr[i,:]))\n",
    "    for k,v  in count.items():\n",
    "        z[i, k-1] = v\n",
    "        val , count = np.unique((arr[i]),return_counts=True)\n",
    "        arr, val, count, z, val -1\n",
    "        z[i][val-1] = count\n",
    "\n",
    "z"
   ]
  },
  {
   "cell_type": "markdown",
   "metadata": {},
   "source": [
    "## Exercise 5: One-Hot encodings\n",
    "\n",
    "Compute the one-hot encodings (AKA dummy binary variables) for each unique value in the array.\n",
    "\n",
    "Input:\n",
    "```\n",
    "np.random.seed(101) \n",
    "arr = np.random.randint(1,4, size=6)\n",
    "arr\n",
    "#> array([2, 3, 2, 2, 2, 1])\n",
    "```\n",
    "Output:\n",
    "```\n",
    "#> array([[ 0.,  1.,  0.],\n",
    "#>        [ 0.,  0.,  1.],\n",
    "#>        [ 0.,  1.,  0.],\n",
    "#>        [ 0.,  1.,  0.],\n",
    "#>        [ 0.,  1.,  0.],\n",
    "#>        [ 1.,  0.,  0.]])\n",
    "```"
   ]
  },
  {
   "cell_type": "code",
   "execution_count": 55,
   "metadata": {},
   "outputs": [
    {
     "output_type": "execute_result",
     "data": {
      "text/plain": [
       "array([2, 3, 2, 2, 2, 1])"
      ]
     },
     "metadata": {},
     "execution_count": 55
    }
   ],
   "source": [
    "import numpy as np\n",
    "\n",
    "np.random.seed(101)\n",
    "arr = np.random.randint(1, 4, size = 6)\n",
    "arr"
   ]
  },
  {
   "cell_type": "code",
   "execution_count": 56,
   "metadata": {},
   "outputs": [
    {
     "output_type": "execute_result",
     "data": {
      "text/plain": [
       "array([[0., 0., 0.],\n",
       "       [0., 0., 0.],\n",
       "       [0., 0., 0.],\n",
       "       [0., 0., 0.],\n",
       "       [0., 0., 0.],\n",
       "       [0., 0., 0.]])"
      ]
     },
     "metadata": {},
     "execution_count": 56
    }
   ],
   "source": [
    "arr2 = np.zeros((6,3))\n",
    "arr2"
   ]
  },
  {
   "cell_type": "code",
   "execution_count": 73,
   "metadata": {},
   "outputs": [
    {
     "output_type": "execute_result",
     "data": {
      "text/plain": [
       "array([[0., 2., 0.],\n",
       "       [0., 0., 3.],\n",
       "       [0., 2., 0.],\n",
       "       [0., 2., 0.],\n",
       "       [0., 2., 0.],\n",
       "       [1., 0., 0.]])"
      ]
     },
     "metadata": {},
     "execution_count": 73
    }
   ],
   "source": [
    "arr3 = arr2.copy()\n",
    "arr3[(0,1)], arr3[(2,1)], arr3[(3,1)], arr3[(4,1)] = (\n",
    "arr[(0)], arr[(2)], arr[(3)], arr[(4)]) #Copy 2s\n",
    "arr3[(5,0)] = arr[(5)] #Copy 1\n",
    "arr3[(1,2)] = arr[(1)] #Copy 3\n",
    "arr3"
   ]
  },
  {
   "cell_type": "code",
   "execution_count": 58,
   "metadata": {},
   "outputs": [
    {
     "output_type": "execute_result",
     "data": {
      "text/plain": [
       "array([[0., 1., 0.],\n",
       "       [0., 0., 1.],\n",
       "       [0., 1., 0.],\n",
       "       [0., 1., 0.],\n",
       "       [0., 1., 0.],\n",
       "       [1., 0., 0.]])"
      ]
     },
     "metadata": {},
     "execution_count": 58
    }
   ],
   "source": [
    "np.where(arr3 < 1, arr3, 1)"
   ]
  },
  {
   "cell_type": "markdown",
   "metadata": {},
   "source": [
    "## Exercise 6\n",
    "\n",
    "Let `q` be a NumPy array of length `n` with `q.sum() == 1`.\n",
    "\n",
    "Suppose that `q` represents a [probability mass function](https://en.wikipedia.org/wiki/Probability_mass_function) over a statistical distribution. Recall that a distribution is an array of probabilities of events.\n",
    "\n",
    "We want to generate a discrete random variable $ x $ such that $ \\mathbb P\\{x = i\\} = q_i $.\n",
    "\n",
    "In other words, `x` takes values in `range(len(q))` and `x = i` with probability `q[i]`.\n",
    "\n",
    "The standard (inverse transform) algorithm is as follows:\n",
    "\n",
    "- Divide the unit interval $ [0, 1] $ into $ n $ subintervals $ I_0, I_1, \\ldots, I_{n-1} $ such that the length of $ I_i $ is $ q_i $.  \n",
    "- Draw a uniform random variable $ U $ on $ [0, 1] $ and return the $ i $ such that $ U \\in I_i $.  \n",
    "\n",
    "\n",
    "The probability of drawing $ i $ is the length of $ I_i $, which is equal to $ q_i $.\n",
    "\n",
    "We can implement the algorithm as follows\n",
    "\n",
    "```python\n",
    "from random import uniform\n",
    "\n",
    "def sample(q):\n",
    "    a = 0.0\n",
    "    U = uniform(0, 1)\n",
    "    for i in range(len(q)):\n",
    "        if a < U <= a + q[i]:\n",
    "            return i\n",
    "        a = a + q[i]\n",
    "```\n",
    "\n",
    "If you can’t see how this works, try thinking through the flow for a simple example, such as `q = [0.25, 0.75]`\n",
    "It helps to sketch the intervals on paper.\n",
    "\n",
    "**Your exercise is to speed it up using NumPy, avoiding explicit loops**\n",
    "\n",
    "- Hint: Use `np.searchsorted` and `np.cumsum`  \n",
    "\n",
    "\n",
    "If you can, implement the functionality as a class called `DiscreteRV`, where\n",
    "\n",
    "- the data for an instance of the class is the vector of probabilities `q`  \n",
    "- the class has a `draw()` method, which returns one draw according to the algorithm described above  \n",
    "\n",
    "\n",
    "If you can, write the method so that `draw(k)` returns `k` draws from `q`."
   ]
  },
  {
   "cell_type": "code",
   "execution_count": 1,
   "metadata": {},
   "outputs": [
    {
     "output_type": "execute_result",
     "data": {
      "text/plain": [
       "array([0.2, 0.5, 0.6, 0.7, 1. ])"
      ]
     },
     "metadata": {},
     "execution_count": 1
    }
   ],
   "source": [
    "import numpy as np\n",
    "\n",
    "class DiscreteRV():\n",
    "    def __init__(self, q, k):\n",
    "        self.q = q\n",
    "        self.k = k\n",
    "    \n",
    "    def draw(self):\n",
    "        res = []\n",
    "        for k in range(self.k):\n",
    "            d = np.random.rand()\n",
    "            s = np.searchsorted(self.sum2(), d)\n",
    "            res.append(s)\n",
    "        return res\n",
    "    \n",
    "    def sum2(self):\n",
    "        return np.cumsum(self.q)\n",
    "q = (0.2, 0.3, 0.1, 0.1, 0.3)\n",
    "dv = DiscreteRV(q, k = 3)\n",
    "dv.sum2()"
   ]
  },
  {
   "cell_type": "code",
   "execution_count": 2,
   "metadata": {},
   "outputs": [
    {
     "output_type": "execute_result",
     "data": {
      "text/plain": [
       "[4, 1, 0]"
      ]
     },
     "metadata": {},
     "execution_count": 2
    }
   ],
   "source": [
    "dv.draw()"
   ]
  },
  {
   "cell_type": "markdown",
   "metadata": {},
   "source": [
    "## Exercise 7 Peaks\n",
    "\n",
    "Find all the peaks in a 1D numpy array a. Peaks are points surrounded by smaller values on both sides.\n",
    "\n",
    "Input:\n",
    "```\n",
    "a = np.array([1, 3, 7, 1, 2, 6, 0, 1])\n",
    "```\n",
    "Desired Output:\n",
    "```\n",
    "#> array([2, 5])\n",
    "```\n",
    "where, 2 and 5 are the positions of peak values 7 and 6.\n",
    "\n",
    "### 1. Solve this usign a regular python for loop\n",
    "\n",
    "### 2. Solve this using no loops and only numpy functions"
   ]
  },
  {
   "cell_type": "code",
   "execution_count": 59,
   "metadata": {},
   "outputs": [
    {
     "output_type": "stream",
     "name": "stdout",
     "text": [
      "At index 2 , the value is 7\nAt index 5 , the value is 6\n"
     ]
    }
   ],
   "source": [
    "#Python Loop\n",
    "import numpy as np\n",
    "\n",
    "a = np.array([1, 3, 7, 1, 2, 6, 0, 1])\n",
    "\n",
    "def peaks(a):\n",
    "    for i in range(len(a) - 1):\n",
    "        if a[i]  > a[i + 1]:\n",
    "            print(\"At index \" + str(i) + \" , the value is \" + str(a[i]))\n",
    "peaks(a)"
   ]
  },
  {
   "cell_type": "code",
   "execution_count": 60,
   "metadata": {},
   "outputs": [
    {
     "output_type": "stream",
     "name": "stdout",
     "text": [
      "At index 2 , the value is 7\n"
     ]
    }
   ],
   "source": [
    "#Numpy Method\n",
    "np.argmax(a)\n",
    "a.max()\n",
    "print(\"At index \" + str(np.argmax(a)) + \" , the value is \" + str(a.max()))"
   ]
  },
  {
   "cell_type": "code",
   "execution_count": 61,
   "metadata": {},
   "outputs": [
    {
     "output_type": "execute_result",
     "data": {
      "text/plain": [
       "array([1, 2, 6, 0, 1])"
      ]
     },
     "metadata": {},
     "execution_count": 61
    }
   ],
   "source": [
    "#Create new array that slices after highest value in a\n",
    "b = a[3:]\n",
    "b"
   ]
  },
  {
   "cell_type": "code",
   "execution_count": 62,
   "metadata": {},
   "outputs": [
    {
     "output_type": "stream",
     "name": "stdout",
     "text": [
      "The highest value in array b is 6\n"
     ]
    }
   ],
   "source": [
    "#Find highest value in new array\n",
    "b.max()\n",
    "print(\"The highest value in array b is \" + str(b.max()))"
   ]
  },
  {
   "cell_type": "code",
   "execution_count": 63,
   "metadata": {},
   "outputs": [
    {
     "output_type": "stream",
     "name": "stdout",
     "text": [
      "At index (array([5]),) , the value is 6\n"
     ]
    }
   ],
   "source": [
    "#Refer back to array a to find the index of value 6\n",
    "np.where(a == 6)\n",
    "print(\"At index \" + str(np.where(a == 6)) + \" , the value is \" + str(b.max()))"
   ]
  },
  {
   "cell_type": "code",
   "execution_count": null,
   "metadata": {},
   "outputs": [],
   "source": []
  }
 ],
 "metadata": {
  "date": 1597540028.6350708,
  "filename": "numpy.rst",
  "kernelspec": {
   "display_name": "Python 3",
   "language": "python",
   "name": "python3"
  },
  "language_info": {
   "codemirror_mode": {
    "name": "ipython",
    "version": 3
   },
   "file_extension": ".py",
   "mimetype": "text/x-python",
   "name": "python",
   "nbconvert_exporter": "python",
   "pygments_lexer": "ipython3",
   "version": "3.8.3-final"
  },
  "next_doc": {
   "link": "matplotlib",
   "title": "Matplotlib"
  },
  "prev_doc": {
   "link": "need_for_speed",
   "title": "Python for Scientific Computing"
  },
  "title": "NumPy"
 },
 "nbformat": 4,
 "nbformat_minor": 2
}