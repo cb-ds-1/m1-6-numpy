{
 "cells": [
  {
   "cell_type": "markdown",
   "metadata": {},
   "source": [
    "## 1. What is the Average Height of US Presidents?\n",
    "\n",
    "Aggregates available in NumPy can be extremely useful for summarizing a set of values.\n",
    "As a simple example, let's consider the heights of all US presidents.\n",
    "\n",
    "This data is available in the file *president_heights.csv*, which is a simple comma-separated list of labels and values.\n",
    "\n",
    "Find the mean height, the standard deviation of height, and the president who is the smallest and tallest.\n",
    "\n",
    "You can use `pandas` to read in the file if you want, then cast the column to a `np.array`"
   ]
  },
  {
   "cell_type": "code",
   "execution_count": 18,
   "metadata": {},
   "outputs": [
    {
     "name": "stdout",
     "output_type": "stream",
     "text": [
      "The everage height of presidents is 179.73809523809524 cm\n",
      "The standard deviation of height of presidents is +/- 6.931843442745892 cm\n",
      "The shortest president is/was James Madison (163 cm)\n",
      "The tallest president is/was Abraham Lincoln (193 cm)\n"
     ]
    }
   ],
   "source": [
    "import pandas as pd\n",
    "import numpy as np\n",
    "\n",
    "p_file = pd.read_csv(\"./data/president_heights.csv\", usecols=[\"order\", \"name\", \"height(cm)\"])\n",
    "\n",
    "heights = np.array(p_file[\"height(cm)\"])\n",
    "names = np.array(p_file[\"name\"])\n",
    "shortestI = np.argmin(heights)\n",
    "tallestI = np.argmax(heights)\n",
    "\n",
    "print(\"The everage height of presidents is {height} cm\".format(height=np.average(heights)))\n",
    "print(\"The standard deviation of height of presidents is +/- {height} cm\".format(height=np.std(heights)))\n",
    "print(\"The shortest president is/was {president} ({height} cm)\".format(president=names[shortestI],height=heights[shortestI]))\n",
    "print(\"The tallest president is/was {president} ({height} cm)\".format(president=names[tallestI],height=heights[tallestI]))\n",
    "\n"
   ]
  },
  {
   "cell_type": "markdown",
   "metadata": {},
   "source": [
    "# Exercise 2\n",
    "\n",
    "Recall the polynomial formula\n",
    "\n",
    "$$\n",
    "p(x) = a_0 + a_1 x + a_2 x^2 + \\cdots a_N x^N = \\sum_{n=0}^N a_n x^n \\tag{1}\n",
    "$$\n",
    "\n",
    "In the **math functions workshop**, you wrote a simple function `p(x, coeff)` to evaluate it without thinking about efficiency.\n",
    "\n",
    "Now write a new function that does the same job, but uses NumPy arrays and array operations for its computations, rather than any form of Python loop.\n",
    "\n",
    "(This is already implemented in `np.poly1d`, but use that only to test your function)\n",
    "\n",
    "- Hint: Use `np.cumprod()`  \n"
   ]
  },
  {
   "cell_type": "code",
   "execution_count": 57,
   "metadata": {},
   "outputs": [
    {
     "name": "stdout",
     "output_type": "stream",
     "text": [
      "x = [1, 1]; coeff = [1, 1] --> 6\n",
      "x = [2, 1, 1]; coeff = [2, 1, 1] --> 32\n"
     ]
    }
   ],
   "source": [
    "import numpy as np\n",
    "\n",
    "def p(x, coeff):\n",
    "    arr = np.array(coeff)\n",
    "#     We create an array of the indexes of coeff\n",
    "    enum = list(range(0, len(coeff)))\n",
    "#     We pass a lambda to vectorize that takes in the coeff and the index\n",
    "    poly = np.vectorize(lambda i, t: t*(x**i))(enum, arr)\n",
    "    return np.sum(poly)\n",
    "\n",
    "def prin(x, a):\n",
    "    print(\"x = {x}; coeff = {arra} --> {result}\".format(\n",
    "        x=a,\n",
    "        arra=a,\n",
    "        result=p(x, a)\n",
    "    ))\n",
    "    \n",
    "prin(5, [1,1])\n",
    "prin(5, [2,1,1])"
   ]
  },
  {
   "cell_type": "markdown",
   "metadata": {},
   "source": [
    "## Exercise 3 Softmax\n",
    "\n",
    "Read in `data/iris.csv` and compute the [softmax]() of the sepal length. The formula for the softmax function $\\sigma(x)$ for a vector $x = \\{x_0, x_1, ..., x_{n-1}\\}$ is\n",
    "    .$$\\sigma(x)_j = \\frac{e^{x_j}}{\\sum_k e^{x_k}}$$\n",
    "\n",
    "\n",
    "Your result should be equal to the output of `scipy.special.softmax`"
   ]
  },
  {
   "cell_type": "code",
   "execution_count": 5,
   "metadata": {},
   "outputs": [
    {
     "name": "stdout",
     "output_type": "stream",
     "text": [
      "     sepallength\n",
      "0            5.1\n",
      "1            4.9\n",
      "2            4.7\n",
      "3            4.6\n",
      "4            5.0\n",
      "..           ...\n",
      "145          6.7\n",
      "146          6.3\n",
      "147          6.5\n",
      "148          6.2\n",
      "149          5.9\n",
      "\n",
      "[150 rows x 1 columns]\n",
      "The softmax of sepallength is [0.00221959 0.00181724 0.00148783 0.00134625 0.00200836 0.00299613\n",
      " 0.00134625 0.00200836 0.00110221 0.00181724 0.00299613 0.00164431\n",
      " 0.00164431 0.00099732 0.0044697  0.00404435 0.00299613 0.00221959\n",
      " 0.00404435 0.00221959 0.00299613 0.00221959 0.00134625 0.00221959\n",
      " 0.00164431 0.00200836 0.00200836 0.00245302 0.00245302 0.00148783\n",
      " 0.00164431 0.00299613 0.00245302 0.00331123 0.00181724 0.00200836\n",
      " 0.00331123 0.00181724 0.00110221 0.00221959 0.00200836 0.00121813\n",
      " 0.00110221 0.00200836 0.00221959 0.00164431 0.00221959 0.00134625\n",
      " 0.00271101 0.00200836 0.01483991 0.00814432 0.01342771 0.00331123\n",
      " 0.00900086 0.00404435 0.00736928 0.00181724 0.00994749 0.00245302\n",
      " 0.00200836 0.00493978 0.0054593  0.00603346 0.00365948 0.01099368\n",
      " 0.00365948 0.0044697  0.006668   0.00365948 0.00493978 0.00603346\n",
      " 0.00736928 0.00603346 0.00814432 0.00994749 0.01214989 0.01099368\n",
      " 0.0054593  0.00404435 0.00331123 0.00331123 0.0044697  0.0054593\n",
      " 0.00299613 0.0054593  0.01099368 0.00736928 0.00365948 0.00331123\n",
      " 0.00331123 0.00603346 0.0044697  0.00200836 0.00365948 0.00404435\n",
      " 0.00404435 0.006668   0.00221959 0.00404435 0.00736928 0.0044697\n",
      " 0.01640064 0.00736928 0.00900086 0.02704008 0.00181724 0.02003179\n",
      " 0.01099368 0.01812551 0.00900086 0.00814432 0.01214989 0.00404435\n",
      " 0.0044697  0.00814432 0.00900086 0.02988391 0.02988391 0.0054593\n",
      " 0.01342771 0.00365948 0.02988391 0.00736928 0.01099368 0.01812551\n",
      " 0.006668   0.00603346 0.00814432 0.01812551 0.02213855 0.0365003\n",
      " 0.00814432 0.00736928 0.00603346 0.02988391 0.00736928 0.00814432\n",
      " 0.0054593  0.01342771 0.01099368 0.01342771 0.0044697  0.01214989\n",
      " 0.01099368 0.01099368 0.00736928 0.00900086 0.006668   0.00493978]\n",
      "0      0.002220\n",
      "1      0.001817\n",
      "2      0.001488\n",
      "3      0.001346\n",
      "4      0.002008\n",
      "         ...   \n",
      "145    0.010994\n",
      "146    0.007369\n",
      "147    0.009001\n",
      "148    0.006668\n",
      "149    0.004940\n",
      "Name: sepallength, Length: 150, dtype: float64\n"
     ]
    }
   ],
   "source": [
    "import pandas as pd\n",
    "import numpy as np\n",
    "from scipy.special import softmax\n",
    "\n",
    "def sum_exp(values):\n",
    "    exp_arr = np.vectorize(lambda t: np.exp(t))(values)\n",
    "    return np.sum(exp_arr)\n",
    "    \n",
    "\n",
    "i_file = pd.read_csv(\"./data/iris.csv\", usecols=[\"sepallength\"])\n",
    "print(i_file)\n",
    "\n",
    "def soft_max_array(ve): \n",
    "#     Formulae from scipy:\n",
    "#     return np.exp(ve) / sum(np.exp(ve))\n",
    "#     My formulae:\n",
    "    arr = np.array(ve)\n",
    "    exp_sum = sum_exp(arr)\n",
    "    return np.vectorize(lambda t: np.exp(t)/exp_sum)(arr)\n",
    "    \n",
    "\n",
    "print(\"The softmax of sepallength is {softm}\".format(\n",
    "    softm=soft_max_array(i_file[\"sepallength\"])))\n",
    "print(softmax(i_file[\"sepallength\"]))\n"
   ]
  },
  {
   "cell_type": "markdown",
   "metadata": {},
   "source": [
    "## Exercise 4: unique counts\n",
    "\n",
    "\n",
    "Compute the counts of unique values row-wise.\n",
    "\n",
    "Input:\n",
    "```\n",
    "np.random.seed(100)\n",
    "arr = np.random.randint(1,11,size=(6, 10))\n",
    "arr\n",
    "> array([[ 9,  9,  4,  8,  8,  1,  5,  3,  6,  3],\n",
    ">        [ 3,  3,  2,  1,  9,  5,  1, 10,  7,  3],\n",
    ">        [ 5,  2,  6,  4,  5,  5,  4,  8,  2,  2],\n",
    ">        [ 8,  8,  1,  3, 10, 10,  4,  3,  6,  9],\n",
    ">        [ 2,  1,  8,  7,  3,  1,  9,  3,  6,  2],\n",
    ">        [ 9,  2,  6,  5,  3,  9,  4,  6,  1, 10]])\n",
    "```\n",
    "Desired Output:\n",
    "```\n",
    "> [[1, 0, 2, 1, 1, 1, 0, 2, 2, 0],\n",
    ">  [2, 1, 3, 0, 1, 0, 1, 0, 1, 1],\n",
    ">  [0, 3, 0, 2, 3, 1, 0, 1, 0, 0],\n",
    ">  [1, 0, 2, 1, 0, 1, 0, 2, 1, 2],\n",
    ">  [2, 2, 2, 0, 0, 1, 1, 1, 1, 0],\n",
    ">  [1, 1, 1, 1, 1, 2, 0, 0, 2, 1]]\n",
    "```\n",
    "Output contains 10 columns representing numbers from 1 to 10. The values are the counts of the numbers in the respective rows.\n",
    "For example, Cell(0,2) has the value 2, which means, the number 3 occurs exactly 2 times in the 1st row."
   ]
  },
  {
   "cell_type": "code",
   "execution_count": 13,
   "metadata": {},
   "outputs": [
    {
     "data": {
      "text/plain": [
       "[[1, 0, 2, 1, 1, 1, 0, 2, 2, 0],\n",
       " [2, 1, 3, 0, 1, 0, 1, 0, 1, 1],\n",
       " [0, 3, 0, 2, 3, 1, 0, 1, 0, 0],\n",
       " [1, 0, 2, 1, 0, 1, 0, 2, 1, 2],\n",
       " [2, 2, 2, 0, 0, 1, 1, 1, 1, 0],\n",
       " [1, 1, 1, 1, 1, 2, 0, 0, 2, 1]]"
      ]
     },
     "execution_count": 13,
     "metadata": {},
     "output_type": "execute_result"
    }
   ],
   "source": [
    "import numpy as np\n",
    "\n",
    "def unique_count_row_wise(arr): \n",
    "    result = []\n",
    "    for row in arr:\n",
    "        tempRow = np.array(row)\n",
    "        index = 1\n",
    "        newRow = []\n",
    "        for value in row:\n",
    "            \"\"\"\n",
    "            We use count_nonzero to \n",
    "            check the occurence of the index (the column) in the \n",
    "            row of the array we're in\n",
    "            \"\"\"\n",
    "            newRow.append(np.count_nonzero(tempRow==index, axis=0))\n",
    "            index += 1\n",
    "        result.append(newRow)\n",
    "    return result\n",
    "\n",
    "array = [[ 9,  9,  4,  8,  8,  1,  5,  3,  6,  3],\n",
    "         [ 3,  3,  2,  1,  9,  5,  1, 10,  7,  3],\n",
    "         [ 5,  2,  6,  4,  5,  5,  4,  8,  2,  2],\n",
    "         [ 8,  8,  1,  3, 10, 10,  4,  3,  6,  9],\n",
    "         [ 2,  1,  8,  7,  3,  1,  9,  3,  6,  2],\n",
    "         [ 9,  2,  6,  5,  3,  9,  4,  6,  1, 10]]\n",
    "\n",
    "unique_count_row_wise(array)\n",
    "    "
   ]
  },
  {
   "cell_type": "markdown",
   "metadata": {},
   "source": [
    "## Exercise 5: One-Hot encodings\n",
    "\n",
    "Compute the one-hot encodings (AKA dummy binary variables) for each unique value in the array.\n",
    "\n",
    "Input:\n",
    "```\n",
    "np.random.seed(101) \n",
    "arr = np.random.randint(1,4, size=6)\n",
    "arr\n",
    "#> array([2, 3, 2, 2, 2, 1])\n",
    "```\n",
    "Output:\n",
    "```\n",
    "#> array([[ 0.,  1.,  0.],\n",
    "#>        [ 0.,  0.,  1.],\n",
    "#>        [ 0.,  1.,  0.],\n",
    "#>        [ 0.,  1.,  0.],\n",
    "#>        [ 0.,  1.,  0.],\n",
    "#>        [ 1.,  0.,  0.]])\n",
    "```"
   ]
  },
  {
   "cell_type": "code",
   "execution_count": 19,
   "metadata": {},
   "outputs": [
    {
     "data": {
      "text/plain": [
       "array([[0., 0., 1., 0.],\n",
       "       [0., 0., 0., 1.],\n",
       "       [0., 0., 1., 0.],\n",
       "       [0., 0., 1., 0.],\n",
       "       [0., 0., 1., 0.],\n",
       "       [0., 1., 0., 0.]])"
      ]
     },
     "execution_count": 19,
     "metadata": {},
     "output_type": "execute_result"
    }
   ],
   "source": [
    "\"\"\"\n",
    "Givent that the web has several ways of implementing this algorithm\n",
    "in practice, I went with the one here as it seemed the simplest and since\n",
    "I didn't quite understand the concept at first or how to\n",
    "generate \"[0,1].\" values.\n",
    "\n",
    "https://stackoverflow.com/a/28663910/7183483\n",
    "\n",
    "\"\"\"\n",
    "\n",
    "def one_hot(arr):\n",
    "    a = np.array(arr)\n",
    "    b = np.zeros((a.size, a.max()+1))\n",
    "    b[np.arange(a.size),a] = 1\n",
    "    return b\n",
    "\n",
    "one_hot([2, 3, 2, 2, 2, 1])"
   ]
  },
  {
   "cell_type": "markdown",
   "metadata": {},
   "source": [
    "## Exercise 6\n",
    "\n",
    "Let `q` be a NumPy array of length `n` with `q.sum() == 1`.\n",
    "\n",
    "Suppose that `q` represents a [probability mass function](https://en.wikipedia.org/wiki/Probability_mass_function) over a statistical distribution. Recall that a distribution is an array of probabilities of events.\n",
    "\n",
    "We want to generate a discrete random variable $ x $ such that $ \\mathbb P\\{x = i\\} = q_i $.\n",
    "\n",
    "In other words, `x` takes values in `range(len(q))` and `x = i` with probability `q[i]`.\n",
    "\n",
    "The standard (inverse transform) algorithm is as follows:\n",
    "\n",
    "- Divide the unit interval $ [0, 1] $ into $ n $ subintervals $ I_0, I_1, \\ldots, I_{n-1} $ such that the length of $ I_i $ is $ q_i $.  \n",
    "- Draw a uniform random variable $ U $ on $ [0, 1] $ and return the $ i $ such that $ U \\in I_i $.  \n",
    "\n",
    "\n",
    "The probability of drawing $ i $ is the length of $ I_i $, which is equal to $ q_i $.\n",
    "\n",
    "We can implement the algorithm as follows\n",
    "\n",
    "```python\n",
    "from random import uniform\n",
    "\n",
    "def sample(q):\n",
    "    a = 0.0\n",
    "    U = uniform(0, 1)\n",
    "    for i in range(len(q)):\n",
    "        if a < U <= a + q[i]:\n",
    "            return i\n",
    "        a = a + q[i]\n",
    "```\n",
    "\n",
    "If you can’t see how this works, try thinking through the flow for a simple example, such as `q = [0.25, 0.75]`\n",
    "It helps to sketch the intervals on paper.\n",
    "\n",
    "**Your exercise is to speed it up using NumPy, avoiding explicit loops**\n",
    "\n",
    "- Hint: Use `np.searchsorted` and `np.cumsum`  \n",
    "\n",
    "\n",
    "If you can, implement the functionality as a class called `DiscreteRV`, where\n",
    "\n",
    "- the data for an instance of the class is the vector of probabilities `q`  \n",
    "- the class has a `draw()` method, which returns one draw according to the algorithm described above  \n",
    "\n",
    "\n",
    "If you can, write the method so that `draw(k)` returns `k` draws from `q`."
   ]
  },
  {
   "cell_type": "code",
   "execution_count": 136,
   "metadata": {},
   "outputs": [
    {
     "name": "stdout",
     "output_type": "stream",
     "text": [
      "q = [0.32550555 0.63937228 0.76249495 0.85869799 0.85887894 0.92027329\n",
      " 0.9878375  0.99725703 0.99924164 0.99969571]\n",
      "[3 3 3]\n",
      "[5 0 5 1 3 1 1]\n"
     ]
    }
   ],
   "source": [
    "import numpy as np\n",
    "import random\n",
    "from random import uniform\n",
    "\n",
    "\"\"\"\n",
    "We assume this is not a uniform distribution\n",
    "\n",
    "\"\"\"\n",
    "class DiscreteRV:\n",
    "    \n",
    "    __skip = True\n",
    "        \n",
    "    __last_q_i = 0\n",
    "    \n",
    "    q = []\n",
    "    \n",
    "    _n = 0\n",
    "    \n",
    "    def __init__(self, n):\n",
    "        self.build(n)\n",
    "        \n",
    "    \"\"\"\n",
    "    Convenience method\n",
    "    \"\"\"\n",
    "    def build(self, n):\n",
    "        if n < 1:\n",
    "            self.q = []\n",
    "            self._n = 0\n",
    "        else:\n",
    "            self._n = n\n",
    "            self.q = np.fromfunction(np.vectorize(self.doLambda), (1, n), dtype=float)[0]\n",
    "        self.__last_q_i = 0\n",
    "        self.__skip = True\n",
    "    \n",
    "\n",
    "    def doLambda(self, i, j):\n",
    "        \"\"\"We use a first-iteration guard here to skip over np.vectorize's \n",
    "        first iteration (see print bellow to see what I mean)\"\"\"\n",
    "        if self.__skip:\n",
    "            self.__skip = False\n",
    "            return i\n",
    "        \"\"\"\n",
    "        We update the new sub-interval's max with a random value between\n",
    "        the max of the former sub-interval and 1\n",
    "        \"\"\"\n",
    "        self.__last_q_i = uniform(self.__last_q_i, 1)\n",
    "        return self.__last_q_i\n",
    "\n",
    "    def show(self):\n",
    "        print(\"q = {a}\".format(a=self.q))\n",
    "        \n",
    "    \"\"\"\n",
    "    Default to 1 draw\n",
    "    \"\"\"\n",
    "    def draw(self, k=1):\n",
    "        draws_i = random.sample(range(0, len(self.q) - 1), k)\n",
    "        \n",
    "        \"\"\"\n",
    "        Check generates a random value x inc. in [0, 1] and returns it's\n",
    "        index value with searchsorted applied to q\n",
    "        \"\"\"\n",
    "        def check(i,j): return np.searchsorted(self.q, uniform(0, 1))\n",
    "        \n",
    "        return np.fromfunction(np.vectorize(check), (1, len(draws_i)), dtype=int)[0]\n",
    "        \n",
    "        \n",
    "dist = DiscreteRV(10)\n",
    "\n",
    "dist.show()\n",
    "\n",
    "print(dist.draw(3))\n",
    "print(dist.draw(7))\n",
    "\n"
   ]
  },
  {
   "cell_type": "code",
   "execution_count": null,
   "metadata": {},
   "outputs": [],
   "source": []
  },
  {
   "cell_type": "markdown",
   "metadata": {},
   "source": [
    "## Exercise 7 Peaks\n",
    "\n",
    "Find all the peaks in a 1D numpy array a. Peaks are points surrounded by smaller values on both sides.\n",
    "\n",
    "Input:\n",
    "```\n",
    "a = np.array([1, 3, 7, 1, 2, 6, 0, 1])\n",
    "```\n",
    "Desired Output:\n",
    "```\n",
    "#> array([2, 5])\n",
    "```\n",
    "where, 2 and 5 are the positions of peak values 7 and 6.\n",
    "\n",
    "### 1. Solve this usign a regular python for loop\n",
    "\n",
    "### 2. Solve this using no loops and only numpy functions"
   ]
  },
  {
   "cell_type": "code",
   "execution_count": 143,
   "metadata": {},
   "outputs": [
    {
     "data": {
      "text/plain": [
       "[2, 5]"
      ]
     },
     "execution_count": 143,
     "metadata": {},
     "output_type": "execute_result"
    }
   ],
   "source": [
    "def peaks_loop(a):\n",
    "    p = []\n",
    "    if len(a) == 3: return [1] if a[0] < a[1] > a[2] else []\n",
    "    if len(a) < 3: return []\n",
    "    \"\"\"\n",
    "    No need to check elements on both ends of the array\n",
    "    \"\"\"\n",
    "    for i in range(1, len(a) - 2): \n",
    "        if a[i - 1] < a[i] > a[i + 1]: p.append(i)\n",
    "    return p\n",
    "\n",
    "peaks_loop([1, 3, 7, 1, 2, 6, 0, 1])"
   ]
  },
  {
   "cell_type": "code",
   "execution_count": 151,
   "metadata": {},
   "outputs": [
    {
     "name": "stdout",
     "output_type": "stream",
     "text": [
      "<numpy.ndenumerate object at 0x112b359d0>\n"
     ]
    }
   ],
   "source": [
    "def peaks_np(a):\n",
    "    if len(a) == 3: return [1] if a[0] < a[1] > a[2] else []\n",
    "    if len(a) < 3: return []\n",
    "#     A = np.fromfunction(np.vectorize(lambda i, j: a[j] if i == j else 0), (len(a), len(a)), dtype=int)\n",
    "    print(np.ndenumerate(a))\n",
    "    \n",
    "    \n",
    "peaks_np([1, 3, 7, 1, 2, 6, 0, 1])"
   ]
  },
  {
   "cell_type": "code",
   "execution_count": null,
   "metadata": {},
   "outputs": [],
   "source": []
  },
  {
   "cell_type": "code",
   "execution_count": null,
   "metadata": {},
   "outputs": [],
   "source": []
  }
 ],
 "metadata": {
  "date": 1597540028.6350708,
  "filename": "numpy.rst",
  "kernelspec": {
   "display_name": "Python 3",
   "language": "python",
   "name": "python3"
  },
  "language_info": {
   "codemirror_mode": {
    "name": "ipython",
    "version": 3
   },
   "file_extension": ".py",
   "mimetype": "text/x-python",
   "name": "python",
   "nbconvert_exporter": "python",
   "pygments_lexer": "ipython3",
   "version": "3.8.3"
  },
  "next_doc": {
   "link": "matplotlib",
   "title": "Matplotlib"
  },
  "prev_doc": {
   "link": "need_for_speed",
   "title": "Python for Scientific Computing"
  },
  "title": "NumPy"
 },
 "nbformat": 4,
 "nbformat_minor": 2
}
