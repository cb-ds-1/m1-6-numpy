{
 "cells": [
  {
   "cell_type": "markdown",
   "metadata": {},
   "source": [
    "## 1. What is the Average Height of US Presidents?\n",
    "\n",
    "Aggregates available in NumPy can be extremely useful for summarizing a set of values.\n",
    "As a simple example, let's consider the heights of all US presidents.\n",
    "\n",
    "This data is available in the file *president_heights.csv*, which is a simple comma-separated list of labels and values.\n",
    "\n",
    "Find the mean height, the standard deviation of height, and the president who is the smallest and tallest.\n",
    "\n",
    "You can use `pandas` to read in the file if you want, then cast the column to a `np.array`"
   ]
  },
  {
   "cell_type": "code",
   "execution_count": 4,
   "metadata": {},
   "outputs": [
    {
     "output_type": "stream",
     "name": "stdout",
     "text": [
      "179.73809523809524\n6.931843442745892\n"
     ]
    }
   ],
   "source": [
    "import pandas\n",
    "import numpy as np\n",
    "\n",
    "df = pandas.read_csv('data/president_heights.csv')\n",
    "\n",
    "height_list = df['height(cm)'].to_numpy()\n",
    "\n",
    "mean_height = np.mean(height_list)\n",
    "std_height = np.std(height_list)\n",
    "\n",
    "print(mean_height)\n",
    "print(std_height)\n"
   ]
  },
  {
   "cell_type": "markdown",
   "metadata": {},
   "source": [
    "# Exercise 2\n",
    "\n",
    "Recall the polynomial formula\n",
    "\n",
    "$$\n",
    "p(x) = a_0 + a_1 x + a_2 x^2 + \\cdots a_N x^N = \\sum_{n=0}^N a_n x^n \\tag{1}\n",
    "$$\n",
    "\n",
    "In the **math functions workshop**, you wrote a simple function `p(x, coeff)` to evaluate it without thinking about efficiency.\n",
    "\n",
    "Now write a new function that does the same job, but uses NumPy arrays and array operations for its computations, rather than any form of Python loop.\n",
    "\n",
    "(This is already implemented in `np.poly1d`, but use that only to test your function)\n",
    "\n",
    "- Hint: Use `np.cumprod()`  \n",
    "\n",
    "```\n",
    "p(5, [1, 1]) = 1 + 5 = 6\n",
    "p(5, [2, 1, 1]) = 2 + 5 + 25 = 31\n",
    "```"
   ]
  },
  {
   "cell_type": "code",
   "execution_count": 40,
   "metadata": {},
   "outputs": [
    {
     "output_type": "stream",
     "name": "stdout",
     "text": [
      "6.0\n31.0\n"
     ]
    }
   ],
   "source": [
    "import numpy as np\n",
    "\n",
    "def p(x, coeff: np.array):\n",
    "    \"\"\" returns the result of a polynomial\n",
    "    :param x: value in given a point x\n",
    "    :param coeff: Numpy array of numbers\n",
    "    :returns: results of polynomial\n",
    "    \"\"\"\n",
    "    # grab a 0\n",
    "    total = coeff[0]**0\n",
    "    # remove first item\n",
    "    coeff_to_calc = np.delete(coeff, 0)\n",
    "    # prepare arrays to calc powers\n",
    "    constant_list = np.ones(coeff.size - 1)*5\n",
    "    powers = np.delete(np.arange(0, coeff.size ), 0)\n",
    "    # return final \n",
    "    return total + np.power(constant_list, powers).sum()\n",
    "    \n",
    "\n",
    "print(p(5, np.array([1, 1])))\n",
    "print(p(5, np.array([2, 1, 1])))"
   ]
  },
  {
   "cell_type": "markdown",
   "metadata": {},
   "source": [
    "## Exercise 3 Softmax\n",
    "\n",
    "Read in `data/iris.csv` and compute the [softmax]() of the sepal length. The formula for the softmax function $\\sigma(x)$ for a vector $x = \\{x_0, x_1, ..., x_{n-1}\\}$ is\n",
    "    .$$\\sigma(x)_j = \\frac{e^{x_j}}{\\sum_k e^{x_k}}$$\n",
    "\n",
    "\n",
    "Your result should be equal to the output of `scipy.special.softmax`"
   ]
  },
  {
   "cell_type": "code",
   "execution_count": 47,
   "metadata": {},
   "outputs": [
    {
     "output_type": "stream",
     "name": "stdout",
     "text": [
      "[0.00221959 0.00181724 0.00148783 0.00134625 0.00200836 0.00299613\n 0.00134625 0.00200836 0.00110221 0.00181724 0.00299613 0.00164431\n 0.00164431 0.00099732 0.0044697  0.00404435 0.00299613 0.00221959\n 0.00404435 0.00221959 0.00299613 0.00221959 0.00134625 0.00221959\n 0.00164431 0.00200836 0.00200836 0.00245302 0.00245302 0.00148783\n 0.00164431 0.00299613 0.00245302 0.00331123 0.00181724 0.00200836\n 0.00331123 0.00181724 0.00110221 0.00221959 0.00200836 0.00121813\n 0.00110221 0.00200836 0.00221959 0.00164431 0.00221959 0.00134625\n 0.00271101 0.00200836 0.01483991 0.00814432 0.01342771 0.00331123\n 0.00900086 0.00404435 0.00736928 0.00181724 0.00994749 0.00245302\n 0.00200836 0.00493978 0.0054593  0.00603346 0.00365948 0.01099368\n 0.00365948 0.0044697  0.006668   0.00365948 0.00493978 0.00603346\n 0.00736928 0.00603346 0.00814432 0.00994749 0.01214989 0.01099368\n 0.0054593  0.00404435 0.00331123 0.00331123 0.0044697  0.0054593\n 0.00299613 0.0054593  0.01099368 0.00736928 0.00365948 0.00331123\n 0.00331123 0.00603346 0.0044697  0.00200836 0.00365948 0.00404435\n 0.00404435 0.006668   0.00221959 0.00404435 0.00736928 0.0044697\n 0.01640064 0.00736928 0.00900086 0.02704008 0.00181724 0.02003179\n 0.01099368 0.01812551 0.00900086 0.00814432 0.01214989 0.00404435\n 0.0044697  0.00814432 0.00900086 0.02988391 0.02988391 0.0054593\n 0.01342771 0.00365948 0.02988391 0.00736928 0.01099368 0.01812551\n 0.006668   0.00603346 0.00814432 0.01812551 0.02213855 0.0365003\n 0.00814432 0.00736928 0.00603346 0.02988391 0.00736928 0.00814432\n 0.0054593  0.01342771 0.01099368 0.01342771 0.0044697  0.01214989\n 0.01099368 0.01099368 0.00736928 0.00900086 0.006668   0.00493978]\n"
     ]
    }
   ],
   "source": [
    "import pandas as pd\n",
    "import numpy as np\n",
    "\n",
    "def get_softMax():\n",
    "    df = pd.read_csv('data/iris.csv')\n",
    "\n",
    "    logits = df['sepallength'].to_numpy()\n",
    "\n",
    "    exponants = np.array([np.exp(logit) for logit in logits])\n",
    "    exponants_sum = exponants.sum()\n",
    "\n",
    "    return np.array([softmax/exponants_sum for softmax in exponants])\n",
    "\n",
    "print(get_softMax())"
   ]
  },
  {
   "cell_type": "markdown",
   "metadata": {},
   "source": [
    "## Exercise 4: unique counts\n",
    "\n",
    "\n",
    "Compute the counts of unique values row-wise.\n",
    "\n",
    "Input:\n",
    "```\n",
    "np.random.seed(100)\n",
    "arr = np.random.randint(1,11,size=(6, 10))\n",
    "arr\n",
    "> array([[ 9,  9,  4,  8,  8,  1,  5,  3,  6,  3],\n",
    ">        [ 3,  3,  2,  1,  9,  5,  1, 10,  7,  3],\n",
    ">        [ 5,  2,  6,  4,  5,  5,  4,  8,  2,  2],\n",
    ">        [ 8,  8,  1,  3, 10, 10,  4,  3,  6,  9],\n",
    ">        [ 2,  1,  8,  7,  3,  1,  9,  3,  6,  2],\n",
    ">        [ 9,  2,  6,  5,  3,  9,  4,  6,  1, 10]])\n",
    "```\n",
    "Desired Output:\n",
    "```\n",
    "> [[1, 0, 2, 1, 1, 1, 0, 2, 2, 0],\n",
    ">  [2, 1, 3, 0, 1, 0, 1, 0, 1, 1],\n",
    ">  [0, 3, 0, 2, 3, 1, 0, 1, 0, 0],\n",
    ">  [1, 0, 2, 1, 0, 1, 0, 2, 1, 2],\n",
    ">  [2, 2, 2, 0, 0, 1, 1, 1, 1, 0],\n",
    ">  [1, 1, 1, 1, 1, 2, 0, 0, 2, 1]]\n",
    "```\n",
    "Output contains 10 columns representing numbers from 1 to 10. The values are the counts of the numbers in the respective rows.\n",
    "For example, Cell(0,2) has the value 2, which means, the number 3 occurs exactly 2 times in the 1st row."
   ]
  },
  {
   "cell_type": "code",
   "execution_count": 103,
   "metadata": {},
   "outputs": [
    {
     "output_type": "stream",
     "name": "stdout",
     "text": [
      "[[ 9  9  4  8  8  1  5  3  6  3]\n [ 3  3  2  1  9  5  1 10  7  3]\n [ 5  2  6  4  5  5  4  8  2  2]\n [ 8  8  1  3 10 10  4  3  6  9]\n [ 2  1  8  7  3  1  9  3  6  2]\n [ 9  2  6  5  3  9  4  6  1 10]]\n[[2 1 1 1 1 2 1 3 3 2]\n [1 1 1 1 1 2 1 1 1 2]\n [1 2 2 1 1 2 3 1 1 2]\n [1 1 1 1 1 1 3 3 3 1]\n [1 1 1 1 2 2 1 3 3 2]\n [2 2 2 1 2 1 3 1 1 1]]\n"
     ]
    }
   ],
   "source": [
    "from collections import Counter\n",
    "import numpy as np\n",
    "\n",
    "np.random.seed(100)\n",
    "arr = np.random.randint(1,11,size=(6, 10))\n",
    "\n",
    "def find_uniques(int_list):\n",
    "    counted = Counter(int_list)\n",
    "    return np.array([counted[i] for i in int_list])\n",
    "\n",
    "uniques = lambda int_lists: np.apply_along_axis(find_uniques, 0, int_lists)\n",
    "\n",
    "print(arr)\n",
    "print(uniques(arr))"
   ]
  },
  {
   "cell_type": "markdown",
   "metadata": {},
   "source": [
    "## Exercise 5: One-Hot encodings\n",
    "\n",
    "Compute the one-hot encodings (AKA dummy binary variables) for each unique value in the array.\n",
    "\n",
    "Input:\n",
    "```\n",
    "np.random.seed(101) \n",
    "arr = np.random.randint(1,4, size=6)\n",
    "arr\n",
    "#> array([2, 3, 2, 2, 2, 1])\n",
    "```\n",
    "Output:\n",
    "```\n",
    "#> array([[ 0.,  1.,  0.],\n",
    "#>        [ 0.,  0.,  1.],\n",
    "#>        [ 0.,  1.,  0.],\n",
    "#>        [ 0.,  1.,  0.],\n",
    "#>        [ 0.,  1.,  0.],\n",
    "#>        [ 1.,  0.,  0.]])\n",
    "```"
   ]
  },
  {
   "cell_type": "code",
   "execution_count": 158,
   "metadata": {},
   "outputs": [
    {
     "output_type": "stream",
     "name": "stdout",
     "text": [
      "[[0. 1. 0.]\n [0. 0. 1.]\n [0. 1. 0.]\n [0. 1. 0.]\n [0. 1. 0.]\n [1. 0. 0.]]\n"
     ]
    }
   ],
   "source": [
    "from collections import Counter\n",
    "import numpy as np\n",
    "\n",
    "START = 1\n",
    "STOP = 4\n",
    "np.random.seed(101) \n",
    "arr = np.random.randint(START,STOP, size=6)\n",
    "\n",
    "def get_one_hot_array(x):\n",
    "    zeros = np.zeros(STOP-START)\n",
    "    zeros[x-1] = 1\n",
    "    return zeros\n",
    "\n",
    "one_hot_matrix = lambda int_list: np.array([get_one_hot_array(i) for i in int_list])\n",
    "\n",
    "\n",
    "print(one_hot_matrix(arr))"
   ]
  },
  {
   "cell_type": "markdown",
   "metadata": {},
   "source": [
    "## Exercise 6\n",
    "\n",
    "Let `q` be a NumPy array of length `n` with `q.sum() == 1`.\n",
    "\n",
    "Suppose that `q` represents a [probability mass function](https://en.wikipedia.org/wiki/Probability_mass_function) over a statistical distribution. Recall that a distribution is an array of probabilities of events.\n",
    "\n",
    "We want to generate a discrete random variable $ x $ such that $ \\mathbb P\\{x = i\\} = q_i $.\n",
    "\n",
    "In other words, `x` takes values in `range(len(q))` and `x = i` with probability `q[i]`.\n",
    "\n",
    "The standard (inverse transform) algorithm is as follows:\n",
    "\n",
    "- Divide the unit interval $ [0, 1] $ into $ n $ subintervals $ I_0, I_1, \\ldots, I_{n-1} $ such that the length of $ I_i $ is $ q_i $.  \n",
    "- Draw a uniform random variable $ U $ on $ [0, 1] $ and return the $ i $ such that $ U \\in I_i $.  \n",
    "\n",
    "\n",
    "The probability of drawing $ i $ is the length of $ I_i $, which is equal to $ q_i $.\n",
    "\n",
    "We can implement the algorithm as follows\n",
    "\n",
    "```python\n",
    "from random import uniform\n",
    "\n",
    "def sample(q):\n",
    "    a = 0.0\n",
    "    U = uniform(0, 1)\n",
    "    for i in range(len(q)):\n",
    "        if a < U <= a + q[i]:\n",
    "            return i\n",
    "        a = a + q[i]\n",
    "```\n",
    "\n",
    "If you can’t see how this works, try thinking through the flow for a simple example, such as `q = [0.25, 0.75]`\n",
    "It helps to sketch the intervals on paper.\n",
    "\n",
    "**Your exercise is to speed it up using NumPy, avoiding explicit loops**\n",
    "\n",
    "- Hint: Use `np.searchsorted` and `np.cumsum`  \n",
    "\n",
    "\n",
    "If you can, implement the functionality as a class called `DiscreteRV`, where\n",
    "\n",
    "- the data for an instance of the class is the vector of probabilities `q`  \n",
    "- the class has a `draw()` method, which returns one draw according to the algorithm described above  \n",
    "\n",
    "\n",
    "If you can, write the method so that `draw(k)` returns `k` draws from `q`."
   ]
  },
  {
   "cell_type": "code",
   "execution_count": 243,
   "metadata": {},
   "outputs": [
    {
     "output_type": "execute_result",
     "data": {
      "text/plain": [
       "[1, 3, 3, 0, 1]"
      ]
     },
     "metadata": {},
     "execution_count": 243
    }
   ],
   "source": [
    "from random import uniform\n",
    "import numpy as np\n",
    "\n",
    "# def sample(q):\n",
    "#     a = 0.0\n",
    "#     U = uniform(0, 1)\n",
    "#     for i in range(len(q)):\n",
    "#         print(a, U, q[i])\n",
    "#         if a < U <= a + q[i]:\n",
    "#             return i\n",
    "#         a = a + q[i]\n",
    "# sample([0.25,0.75])\n",
    "\n",
    "class DiscreteRV:\n",
    "    def __init__(self, q):\n",
    "        self.q = np.array(q)\n",
    "        if(self.q.cumsum()[-1] != 1):\n",
    "            raise Exception('q.sum must be 1 otherwise not valid')\n",
    "\n",
    "    def draw(self, k):\n",
    "        return [np.searchsorted(self.q, uniform(0, 1)) for i in range(k)]\n",
    "\n",
    "    \n",
    "DiscreteRV([0.25,0.5, 0.25]).draw(5)\n",
    "    "
   ]
  },
  {
   "cell_type": "markdown",
   "metadata": {},
   "source": [
    "## Exercise 7 Peaks\n",
    "\n",
    "Find all the peaks in a 1D numpy array a. Peaks are points surrounded by smaller values on both sides.\n",
    "\n",
    "Input:\n",
    "```\n",
    "a = np.array([1, 3, 7, 1, 2, 6, 0, 1])\n",
    "```\n",
    "Desired Output:\n",
    "```\n",
    "#> array([2, 5])\n",
    "```\n",
    "where, 2 and 5 are the positions of peak values 7 and 6.\n",
    "\n",
    "### 1. Solve this usign a regular python for loop\n",
    "\n",
    "### 2. Solve this using no loops and only numpy functions"
   ]
  },
  {
   "cell_type": "code",
   "execution_count": 168,
   "metadata": {},
   "outputs": [
    {
     "output_type": "execute_result",
     "data": {
      "text/plain": [
       "[7, 6]"
      ]
     },
     "metadata": {},
     "execution_count": 168
    }
   ],
   "source": [
    "# 1\n",
    "def peaks(array):\n",
    "    not_edges = lambda x : x is not 0 and x is not len(array) -1\n",
    "    is_peak = lambda a,b,c : array[a] > array[b] and array[a] > array[c]\n",
    "    return [array[i] for i in range(len(array)) if not_edges(i) and is_peak(i, i -1, i + 1)]\n",
    "\n",
    "peaks([1, 3, 7, 1, 2, 6, 0, 1])"
   ]
  },
  {
   "cell_type": "code",
   "execution_count": 193,
   "metadata": {},
   "outputs": [
    {
     "output_type": "execute_result",
     "data": {
      "text/plain": [
       "array([7, 6])"
      ]
     },
     "metadata": {},
     "execution_count": 193
    }
   ],
   "source": [
    "import numpy as np\n",
    "\n",
    "def strided_app(a, L, S ): \n",
    "    nrows = ((a.size-L)//S)+1\n",
    "    n = a.strides[0]\n",
    "    return np.lib.stride_tricks.as_strided(a, shape=(nrows,L), strides=(S*n,n))\n",
    "\n",
    "check_if_peak = lambda x: x[1] if x[1] > x[0] and x[1] > x[2] else 0\n",
    "\n",
    "def numpy_peaks(array):\n",
    "    result = np.apply_along_axis(check_if_peak, 1, strided_app(array, 3, 1))\n",
    "    return result[result.nonzero()] \n",
    "\n",
    "numpy_peaks(np.array([1, 3, 7, 1, 2, 6, 0, 1]))"
   ]
  },
  {
   "cell_type": "code",
   "execution_count": null,
   "metadata": {},
   "outputs": [],
   "source": []
  }
 ],
 "metadata": {
  "date": 1597540028.6350708,
  "filename": "numpy.rst",
  "kernelspec": {
   "display_name": "Python 3",
   "language": "python",
   "name": "python3"
  },
  "language_info": {
   "codemirror_mode": {
    "name": "ipython",
    "version": 3
   },
   "file_extension": ".py",
   "mimetype": "text/x-python",
   "name": "python",
   "nbconvert_exporter": "python",
   "pygments_lexer": "ipython3",
   "version": "3.8.3-final"
  },
  "next_doc": {
   "link": "matplotlib",
   "title": "Matplotlib"
  },
  "prev_doc": {
   "link": "need_for_speed",
   "title": "Python for Scientific Computing"
  },
  "title": "NumPy"
 },
 "nbformat": 4,
 "nbformat_minor": 2
}