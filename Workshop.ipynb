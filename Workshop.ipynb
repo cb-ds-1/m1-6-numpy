{
 "cells": [
  {
   "cell_type": "markdown",
   "metadata": {},
   "source": [
    "## 1. What is the Average Height of US Presidents?\n",
    "\n",
    "Aggregates available in NumPy can be extremely useful for summarizing a set of values.\n",
    "As a simple example, let's consider the heights of all US presidents.\n",
    "\n",
    "This data is available in the file *president_heights.csv*, which is a simple comma-separated list of labels and values.\n",
    "\n",
    "Find the mean height, the standard deviation of height, and the president who is the smallest and tallest.\n",
    "\n",
    "You can use `pandas` to read in the file if you want, then cast the column to a `np.array`"
   ]
  },
  {
   "cell_type": "code",
   "execution_count": 342,
   "metadata": {},
   "outputs": [
    {
     "output_type": "stream",
     "name": "stdout",
     "text": [
      "Mean height is 179.73809523809524cm.\nStandard dev of heights is 6.931843442745893cm.\nSmallest pres height is 163cm and is President James Madison.\nTallest pres height is 193cm and is President Abraham Lincoln.\n"
     ]
    }
   ],
   "source": [
    "# to get heights and president names. \n",
    "\n",
    "import pandas as pd \n",
    "import numpy as np \n",
    "\n",
    "my_file = pd.read_csv('/Users/mayarossi/DS-Workshop/m1-6-numpy/data/president_heights.csv')\n",
    "\n",
    "my_file = np.array(my_file)\n",
    "\n",
    "\n",
    "# mean height\n",
    "heights = my_file[:, 2]\n",
    "print(f\"Mean height is {heights.mean()}cm.\")\n",
    "# standard dev of height\n",
    "print(f\"Standard dev of heights is {heights.std()}cm.\")\n",
    "# smallest pres\n",
    "presidents = my_file[:,1]\n",
    "print(f\"Smallest pres height is {heights.min()}cm and is President {presidents[heights.argmin()]}.\")\n",
    "# tallest pres\n",
    "print(f\"Tallest pres height is {heights.max()}cm and is President {presidents[heights.argmax()]}.\")"
   ]
  },
  {
   "cell_type": "markdown",
   "metadata": {},
   "source": [
    "# Exercise 2\n",
    "\n",
    "Recall the polynomial formula\n",
    "\n",
    "$$\n",
    "p(x) = a_0 + a_1 x + a_2 x^2 + \\cdots a_N x^N = \\sum_{n=0}^N a_n x^n \\tag{1}\n",
    "$$\n",
    "\n",
    "In the **math functions workshop**, you wrote a simple function `p(x, coeff)` to evaluate it without thinking about efficiency.\n",
    "\n",
    "Now write a new function that does the same job, but uses NumPy arrays and array operations for its computations, rather than any form of Python loop.\n",
    "\n",
    "(This is already implemented in `np.poly1d`, but use that only to test your function)\n",
    "\n",
    "- Hint: Use `np.cumprod()`  \n"
   ]
  },
  {
   "cell_type": "code",
   "execution_count": 344,
   "metadata": {},
   "outputs": [
    {
     "output_type": "execute_result",
     "data": {
      "text/plain": [
       "32"
      ]
     },
     "metadata": {},
     "execution_count": 344
    }
   ],
   "source": [
    "import numpy as np\n",
    "\n",
    "def p(x, coeff):\n",
    "    coeff = np.array(coeff)\n",
    "    \n",
    "    y = np.ones(len(coeff), dtype = 'int32')\n",
    "    y[1:] = x\n",
    "    y2 = np.cumprod(y) * coeff # cumprod will give the x^0 x^1 x^2 ...\n",
    "    return y2.sum()\n",
    "\n",
    "\n",
    "p(5, [2, 1, 1])"
   ]
  },
  {
   "cell_type": "markdown",
   "metadata": {},
   "source": [
    "## Exercise 3 Softmax\n",
    "\n",
    "Read in `data/iris.csv` and compute the [softmax]() of the sepal length. The formula for the softmax function $\\sigma(x)$ for a vector $x = \\{x_0, x_1, ..., x_{n-1}\\}$ is\n",
    "    .$$\\sigma(x)_j = \\frac{e^{x_j}}{\\sum_k e^{x_k}}$$\n",
    "\n",
    "\n",
    "Your result should be equal to the output of `scipy.special.softmax`"
   ]
  },
  {
   "cell_type": "code",
   "execution_count": 322,
   "metadata": {},
   "outputs": [
    {
     "output_type": "execute_result",
     "data": {
      "text/plain": [
       "array([0.00221959, 0.00181724, 0.00148783, 0.00134625, 0.00200836,\n",
       "       0.00299613, 0.00134625, 0.00200836, 0.00110221, 0.00181724,\n",
       "       0.00299613, 0.00164431, 0.00164431, 0.00099732, 0.0044697 ,\n",
       "       0.00404435, 0.00299613, 0.00221959, 0.00404435, 0.00221959,\n",
       "       0.00299613, 0.00221959, 0.00134625, 0.00221959, 0.00164431,\n",
       "       0.00200836, 0.00200836, 0.00245302, 0.00245302, 0.00148783,\n",
       "       0.00164431, 0.00299613, 0.00245302, 0.00331123, 0.00181724,\n",
       "       0.00200836, 0.00331123, 0.00181724, 0.00110221, 0.00221959,\n",
       "       0.00200836, 0.00121813, 0.00110221, 0.00200836, 0.00221959,\n",
       "       0.00164431, 0.00221959, 0.00134625, 0.00271101, 0.00200836,\n",
       "       0.01483991, 0.00814432, 0.01342771, 0.00331123, 0.00900086,\n",
       "       0.00404435, 0.00736928, 0.00181724, 0.00994749, 0.00245302,\n",
       "       0.00200836, 0.00493978, 0.0054593 , 0.00603346, 0.00365948,\n",
       "       0.01099368, 0.00365948, 0.0044697 , 0.006668  , 0.00365948,\n",
       "       0.00493978, 0.00603346, 0.00736928, 0.00603346, 0.00814432,\n",
       "       0.00994749, 0.01214989, 0.01099368, 0.0054593 , 0.00404435,\n",
       "       0.00331123, 0.00331123, 0.0044697 , 0.0054593 , 0.00299613,\n",
       "       0.0054593 , 0.01099368, 0.00736928, 0.00365948, 0.00331123,\n",
       "       0.00331123, 0.00603346, 0.0044697 , 0.00200836, 0.00365948,\n",
       "       0.00404435, 0.00404435, 0.006668  , 0.00221959, 0.00404435,\n",
       "       0.00736928, 0.0044697 , 0.01640064, 0.00736928, 0.00900086,\n",
       "       0.02704008, 0.00181724, 0.02003179, 0.01099368, 0.01812551,\n",
       "       0.00900086, 0.00814432, 0.01214989, 0.00404435, 0.0044697 ,\n",
       "       0.00814432, 0.00900086, 0.02988391, 0.02988391, 0.0054593 ,\n",
       "       0.01342771, 0.00365948, 0.02988391, 0.00736928, 0.01099368,\n",
       "       0.01812551, 0.006668  , 0.00603346, 0.00814432, 0.01812551,\n",
       "       0.02213855, 0.0365003 , 0.00814432, 0.00736928, 0.00603346,\n",
       "       0.02988391, 0.00736928, 0.00814432, 0.0054593 , 0.01342771,\n",
       "       0.01099368, 0.01342771, 0.0044697 , 0.01214989, 0.01099368,\n",
       "       0.01099368, 0.00736928, 0.00900086, 0.006668  , 0.00493978])"
      ]
     },
     "metadata": {},
     "execution_count": 322
    }
   ],
   "source": [
    "import numpy as np\n",
    "import pandas as pd\n",
    "\n",
    "my_file = pd.read_csv('/Users/mayarossi/DS-Workshop/m1-6-numpy/data/iris.csv')\n",
    "sepal_length = np.array(my_file[\"sepallength\"])\n",
    "\n",
    "def softmax(x):\n",
    "    return np.exp(x)/sum(np.exp(x))\n",
    "\n",
    "softmax(sepal_length)\n",
    "\n"
   ]
  },
  {
   "cell_type": "markdown",
   "metadata": {},
   "source": [
    "## Exercise 4: unique counts\n",
    "\n",
    "\n",
    "Compute the counts of unique values row-wise.\n",
    "\n",
    "Input:\n",
    "```\n",
    "np.random.seed(100)\n",
    "arr = np.random.randint(1,11,size=(6, 10))\n",
    "arr\n",
    "> array([[ 9,  9,  4,  8,  8,  1,  5,  3,  6,  3],\n",
    ">        [ 3,  3,  2,  1,  9,  5,  1, 10,  7,  3],\n",
    ">        [ 5,  2,  6,  4,  5,  5,  4,  8,  2,  2],\n",
    ">        [ 8,  8,  1,  3, 10, 10,  4,  3,  6,  9],\n",
    ">        [ 2,  1,  8,  7,  3,  1,  9,  3,  6,  2],\n",
    ">        [ 9,  2,  6,  5,  3,  9,  4,  6,  1, 10]])\n",
    "```\n",
    "Desired Output:\n",
    "```\n",
    "> [[1, 0, 2, 1, 1, 1, 0, 2, 2, 0],\n",
    ">  [2, 1, 3, 0, 1, 0, 1, 0, 1, 1],\n",
    ">  [0, 3, 0, 2, 3, 1, 0, 1, 0, 0],\n",
    ">  [1, 0, 2, 1, 0, 1, 0, 2, 1, 2],\n",
    ">  [2, 2, 2, 0, 0, 1, 1, 1, 1, 0],\n",
    ">  [1, 1, 1, 1, 1, 2, 0, 0, 2, 1]]\n",
    "```\n",
    "Output contains 10 columns representing numbers from 1 to 10. The values are the counts of the numbers in the respective rows.\n",
    "For example, Cell(0,2) has the value 2, which means, the number 3 occurs exactly 2 times in the 1st row."
   ]
  },
  {
   "cell_type": "code",
   "execution_count": 354,
   "metadata": {},
   "outputs": [
    {
     "output_type": "execute_result",
     "data": {
      "text/plain": [
       "array([[1, 0, 2, 1, 1, 1, 0, 2, 2, 0],\n",
       "       [2, 1, 3, 0, 1, 0, 1, 0, 1, 1],\n",
       "       [0, 3, 0, 2, 3, 1, 0, 1, 0, 0],\n",
       "       [1, 0, 2, 1, 0, 1, 0, 2, 1, 2],\n",
       "       [2, 2, 2, 0, 0, 1, 1, 1, 1, 0],\n",
       "       [1, 1, 1, 1, 1, 2, 0, 0, 2, 1]], dtype=int32)"
      ]
     },
     "metadata": {},
     "execution_count": 354
    }
   ],
   "source": [
    "# Using np.arrays\n",
    "\n",
    "np.random.seed(100)\n",
    "arr = np.random.randint(1, 11, size=(6, 10))\n",
    "def count_unique(arr):\n",
    "    val, count = np.unique((arr), return_counts = True)\n",
    "    r = np.zeros(10)\n",
    "    r[val-1] = count\n",
    "    return r\n",
    "\n",
    "result = [count_unique(arr[i]) for i in range(arr.shape[0])]\n",
    "np.array(result, dtype = 'int32')"
   ]
  },
  {
   "cell_type": "code",
   "execution_count": 206,
   "metadata": {},
   "outputs": [
    {
     "output_type": "stream",
     "name": "stdout",
     "text": [
      "[[ 9  9  4  8  8  1  5  3  6  3]\n [ 3  3  2  1  9  5  1 10  7  3]\n [ 5  2  6  4  5  5  4  8  2  2]\n [ 8  8  1  3 10 10  4  3  6  9]\n [ 2  1  8  7  3  1  9  3  6  2]\n [ 9  2  6  5  3  9  4  6  1 10]]\n[[1 0 2 1 1 1 0 2 2 0]\n [2 1 3 0 1 0 1 0 1 1]\n [0 3 0 2 3 1 0 1 0 0]\n [1 0 2 1 0 1 0 2 1 2]\n [2 2 2 0 0 1 1 1 1 0]\n [1 1 1 1 1 2 0 0 2 1]]\n"
     ]
    }
   ],
   "source": [
    "# Using for loops\n",
    "\n",
    "np.random.seed(100)\n",
    "arr = np.random.randint(1, 11, size=(6, 10))\n",
    "output = np.zeros((6, 10), dtype=int)\n",
    "\n",
    "for i in range(len(arr)): # rows in the array (6)\n",
    "    \n",
    "    for j in range(len(arr[i])): # numbers in the row (10)\n",
    "\n",
    "        count = 0\n",
    "        \n",
    "        for ij in range(len(arr[i])): \n",
    "            \n",
    "            if arr[i][ij] == j + 1:\n",
    "                count += 1\n",
    "        \n",
    "        output[i][j] = count\n",
    "\n",
    "print(arr)\n",
    "print(output)\n"
   ]
  },
  {
   "cell_type": "markdown",
   "metadata": {},
   "source": [
    "## Exercise 5: One-Hot encodings\n",
    "\n",
    "Compute the one-hot encodings (AKA dummy binary variables) for each unique value in the array.\n",
    "\n",
    "Input:\n",
    "```\n",
    "np.random.seed(101) \n",
    "arr = np.random.randint(1,4, size=6)\n",
    "arr\n",
    "#> array([2, 3, 2, 2, 2, 1])\n",
    "```\n",
    "Output:\n",
    "```\n",
    "#> array([[ 0.,  1.,  0.],\n",
    "#>        [ 0.,  0.,  1.],\n",
    "#>        [ 0.,  1.,  0.],\n",
    "#>        [ 0.,  1.,  0.],\n",
    "#>        [ 0.,  1.,  0.],\n",
    "#>        [ 1.,  0.,  0.]])\n",
    "```"
   ]
  },
  {
   "cell_type": "code",
   "execution_count": 239,
   "metadata": {},
   "outputs": [
    {
     "output_type": "execute_result",
     "data": {
      "text/plain": [
       "array([[0, 1, 0],\n",
       "       [0, 0, 1],\n",
       "       [0, 1, 0],\n",
       "       [0, 1, 0],\n",
       "       [0, 1, 0],\n",
       "       [1, 0, 0]])"
      ]
     },
     "metadata": {},
     "execution_count": 239
    }
   ],
   "source": [
    "np.random.seed(101) \n",
    "arr = np.random.randint(1,4, size=6)\n",
    "arr\n",
    "\n",
    "def one_hot(arr):\n",
    "    my_array = np.zeros((len(arr), arr.max()), dtype = 'int64')\n",
    "    for i in range(len(arr)):\n",
    "        my_array[i][arr[i]-1] = 1\n",
    "    return my_array\n",
    "\n",
    "one_hot(arr)\n",
    "\n"
   ]
  },
  {
   "cell_type": "markdown",
   "metadata": {},
   "source": [
    "## Exercise 6\n",
    "\n",
    "Let `q` be a NumPy array of length `n` with `q.sum() == 1`.\n",
    "\n",
    "Suppose that `q` represents a [probability mass function](https://en.wikipedia.org/wiki/Probability_mass_function) over a statistical distribution. Recall that a distribution is an array of probabilities of events.\n",
    "\n",
    "We want to generate a discrete random variable $ x $ such that $ \\mathbb P\\{x = i\\} = q_i $.\n",
    "\n",
    "In other words, `x` takes values in `range(len(q))` and `x = i` with probability `q[i]`.\n",
    "\n",
    "The standard (inverse transform) algorithm is as follows:\n",
    "\n",
    "- Divide the unit interval $ [0, 1] $ into $ n $ subintervals $ I_0, I_1, \\ldots, I_{n-1} $ such that the length of $ I_i $ is $ q_i $.  \n",
    "- Draw a uniform random variable $ U $ on $ [0, 1] $ and return the $ i $ such that $ U \\in I_i $.  \n",
    "\n",
    "\n",
    "The probability of drawing $ i $ is the length of $ I_i $, which is equal to $ q_i $.\n",
    "\n",
    "We can implement the algorithm as follows\n",
    "\n",
    "```python\n",
    "from random import uniform\n",
    "\n",
    "def sample(q):\n",
    "    a = 0.0\n",
    "    U = uniform(0, 1)\n",
    "    for i in range(len(q)):\n",
    "        if a < U <= a + q[i]:\n",
    "            return i\n",
    "        a = a + q[i]\n",
    "```\n",
    "\n",
    "If you can’t see how this works, try thinking through the flow for a simple example, such as `q = [0.25, 0.75]`\n",
    "It helps to sketch the intervals on paper.\n",
    "\n",
    "**Your exercise is to speed it up using NumPy, avoiding explicit loops**\n",
    "\n",
    "- Hint: Use `np.searchsorted` and `np.cumsum`  \n",
    "\n",
    "\n",
    "If you can, implement the functionality as a class called `DiscreteRV`, where\n",
    "\n",
    "- the data for an instance of the class is the vector of probabilities `q`  \n",
    "- the class has a `draw()` method, which returns one draw according to the algorithm described above  \n",
    "\n",
    "\n",
    "If you can, write the method so that `draw(k)` returns `k` draws from `q`."
   ]
  },
  {
   "cell_type": "code",
   "execution_count": 375,
   "metadata": {},
   "outputs": [
    {
     "output_type": "stream",
     "name": "stdout",
     "text": [
      "[0.35950784 0.59885895 0.35479561 0.34019022]\n"
     ]
    },
    {
     "output_type": "execute_result",
     "data": {
      "text/plain": [
       "array([1, 1, 1, 1])"
      ]
     },
     "metadata": {},
     "execution_count": 375
    }
   ],
   "source": [
    "from numpy.random import uniform\n",
    "class DiscreteRv():\n",
    "    def __init__(self, q): # q is a np.array. self.q = q. self.Q = np.cumsum(q)\n",
    "        self.q = q\n",
    "        self.Q =np.cumsum(q)\n",
    "\n",
    "    def draw(self, k = 1): \n",
    "        U = uniform(0,1, size=k)\n",
    "        print(U)\n",
    "        res = np.searchsorted(self.Q, U)\n",
    "        return res\n",
    "\n",
    "q = [0.25, 0.75]   \n",
    "\n",
    "m = DiscreteRv(q)\n",
    "m.draw(4)\n",
    "\n"
   ]
  },
  {
   "cell_type": "markdown",
   "metadata": {},
   "source": [
    "## Exercise 7 Peaks\n",
    "\n",
    "Find all the peaks in a 1D numpy array a. Peaks are points surrounded by smaller values on both sides.\n",
    "\n",
    "Input:\n",
    "```\n",
    "a = np.array([1, 3, 7, 1, 2, 6, 0, 1])\n",
    "```\n",
    "Desired Output:\n",
    "```\n",
    "#> array([2, 5])\n",
    "```\n",
    "where, 2 and 5 are the positions of peak values 7 and 6.\n",
    "\n",
    "### 1. Solve this usign a regular python for loop\n",
    "\n",
    "### 2. Solve this using no loops and only numpy functions"
   ]
  },
  {
   "cell_type": "code",
   "execution_count": 266,
   "metadata": {},
   "outputs": [
    {
     "output_type": "execute_result",
     "data": {
      "text/plain": [
       "[2, 5]"
      ]
     },
     "metadata": {},
     "execution_count": 266
    }
   ],
   "source": [
    "# 1. Solve with python for loop\n",
    "\n",
    "def peak_python(arr):\n",
    "    my_list = []\n",
    "    for i in range(len(arr)):\n",
    "        if arr[i-1] and arr[i+1] < arr[i]:\n",
    "            my_list.append(i)\n",
    "    return my_list\n",
    "\n",
    "peak_python(np.array([1,3,7,1,2,6,0,1]))\n"
   ]
  },
  {
   "cell_type": "code",
   "execution_count": 378,
   "metadata": {},
   "outputs": [
    {
     "output_type": "stream",
     "name": "stdout",
     "text": [
      "[1 3 7 1 2 6]\n[3 7 1 2 6 0]\n[7 1 2 6 0 1]\n(array([2, 5]),)\n"
     ]
    }
   ],
   "source": [
    "# 2. Solve this using no loops and only numpy functions\n",
    "import numpy as np\n",
    "a = np.array([1,3,7,1,2,6,0,1])\n",
    "\n",
    "print(a[:-2]) #'top'\n",
    "print(a[1:-1]) #'middle'\n",
    "print(a[2:]) #'bottom'\n",
    "\n",
    "np.arange(1, len(a)-1)[(a[:-2] < a[1:-1]) & (a[1:-1] > a[2:])]\n",
    " \n",
    "b = np.sign(np.diff(a, 1))\n",
    "\n",
    "print(np.where(b<0))\n"
   ]
  },
  {
   "cell_type": "code",
   "execution_count": null,
   "metadata": {},
   "outputs": [],
   "source": []
  },
  {
   "cell_type": "code",
   "execution_count": null,
   "metadata": {},
   "outputs": [],
   "source": []
  }
 ],
 "metadata": {
  "date": 1597540028.6350708,
  "filename": "numpy.rst",
  "kernelspec": {
   "display_name": "Python 3",
   "language": "python",
   "name": "python3"
  },
  "language_info": {
   "codemirror_mode": {
    "name": "ipython",
    "version": 3
   },
   "file_extension": ".py",
   "mimetype": "text/x-python",
   "name": "python",
   "nbconvert_exporter": "python",
   "pygments_lexer": "ipython3",
   "version": "3.8.3-final"
  },
  "next_doc": {
   "link": "matplotlib",
   "title": "Matplotlib"
  },
  "prev_doc": {
   "link": "need_for_speed",
   "title": "Python for Scientific Computing"
  },
  "title": "NumPy"
 },
 "nbformat": 4,
 "nbformat_minor": 2
}