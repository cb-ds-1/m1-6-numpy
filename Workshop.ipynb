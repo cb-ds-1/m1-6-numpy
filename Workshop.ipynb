{
 "cells": [
  {
   "cell_type": "markdown",
   "metadata": {},
   "source": [
    "## 1. What is the Average Height of US Presidents?\n",
    "\n",
    "Aggregates available in NumPy can be extremely useful for summarizing a set of values.\n",
    "As a simple example, let's consider the heights of all US presidents.\n",
    "\n",
    "This data is available in the file *president_heights.csv*, which is a simple comma-separated list of labels and values.\n",
    "\n",
    "Find the mean height, the standard deviation of height, and the president who is the smallest and tallest.\n",
    "\n",
    "You can use `pandas` to read in the file if you want, then cast the column to a `np.array`"
   ]
  },
  {
   "cell_type": "code",
   "execution_count": 63,
   "metadata": {},
   "outputs": [
    {
     "output_type": "stream",
     "name": "stdout",
     "text": [
      "[16 'Abraham Lincoln' 193]\n[4 'James Madison' 163]\n"
     ]
    }
   ],
   "source": [
    "import pandas as pd \n",
    "import numpy as np \n",
    "\n",
    "df = pd.read_csv(r'data\\president_heights.csv', header=0)\n",
    "\n",
    "#print(df)\n",
    "#print(columns.values) - print column names\n",
    "\n",
    "\n",
    "df_array = df.to_numpy()\n",
    "\n",
    "\n",
    "mean_height = df_array[:,2].mean() #calculate the mean of the height \n",
    "\n",
    "std_deviation = df_array[:,2].std()\n",
    "\n",
    "\n",
    "max_value_idx = np.argmax(df_array[:,2], axis=0)\n",
    "max_height = df_array[max_value_idx]\n",
    "\n",
    "min_value_idx = np.argmin(df_array[:,2], axis=0)\n",
    "min_height = df_array[min_value_idx]\n",
    "\n",
    "#print(df_array)\n",
    "#print(mean_height)\n",
    "#print(std_deviation)\n",
    "print(max_height)\n",
    "print(min_height)\n"
   ]
  },
  {
   "cell_type": "markdown",
   "metadata": {},
   "source": [
    "# Exercise 2\n",
    "\n",
    "Recall the polynomial formula\n",
    "\n",
    "$$\n",
    "p(x) = a_0 + a_1 x + a_2 x^2 + \\cdots a_N x^N = \\sum_{n=0}^N a_n x^n \\tag{1}\n",
    "$$\n",
    "\n",
    "In the **math functions workshop**, you wrote a simple function `p(x, coeff)` to evaluate it without thinking about efficiency.\n",
    "\n",
    "Now write a new function that does the same job, but uses NumPy arrays and array operations for its computations, rather than any form of Python loop.\n",
    "\n",
    "(This is already implemented in `np.poly1d`, but use that only to test your function)\n",
    "\n",
    "- Hint: Use `np.cumprod()`  \n"
   ]
  },
  {
   "cell_type": "code",
   "execution_count": 160,
   "metadata": {},
   "outputs": [
    {
     "output_type": "stream",
     "name": "stdout",
     "text": [
      "11\n"
     ]
    },
    {
     "output_type": "execute_result",
     "data": {
      "text/plain": [
       "11.0"
      ]
     },
     "metadata": {},
     "execution_count": 160
    }
   ],
   "source": [
    "import numpy as np\n",
    "coef = [1, -1, 3]\n",
    "x = 2\n",
    "print(1*1 - 1 * 2 + 3*4)#this is base on the formula\n",
    "#xs = ?? we are going to create them \n",
    "\n",
    "def p(x, coef):\n",
    "    xs = np.ones(len(coef))\n",
    "    xs[1:] = x\n",
    "    xs = np.cumprod(xs)\n",
    "    #ans = coef * xs\n",
    "    #return (sum(ans))\n",
    "    return np.dot(xs, coef)\n",
    "\n",
    "p(x, coef)"
   ]
  },
  {
   "cell_type": "code",
   "execution_count": 119,
   "metadata": {},
   "outputs": [
    {
     "output_type": "stream",
     "name": "stdout",
     "text": [
      "   2\n2 x + 3 x + 4\n"
     ]
    }
   ],
   "source": [
    "import numpy as np\n",
    "\n",
    "ppar = [2 ,3, 4]\n",
    "p = np.poly1d(ppar)\n",
    "print(p)"
   ]
  },
  {
   "cell_type": "code",
   "execution_count": 122,
   "metadata": {},
   "outputs": [
    {
     "output_type": "stream",
     "name": "stdout",
     "text": [
      "4\n"
     ]
    }
   ],
   "source": [
    "print(2**2)"
   ]
  },
  {
   "cell_type": "markdown",
   "metadata": {},
   "source": [
    "## Exercise 3 Softmax\n",
    "\n",
    "Read in `data/iris.csv` and compute the [softmax]() of the sepal length. The formula for the softmax function $\\sigma(x)$ for a vector $x = \\{x_0, x_1, ..., x_{n-1}\\}$ is\n",
    "    .$$\\sigma(x)_j = \\frac{e^{x_j}}{\\sum_k e^{x_k}}$$\n",
    "\n",
    "\n",
    "Your result should be equal to the output of `scipy.special.softmax`"
   ]
  },
  {
   "cell_type": "code",
   "execution_count": 150,
   "metadata": {},
   "outputs": [
    {
     "output_type": "stream",
     "name": "stdout",
     "text": [
      "[0.00221959 0.00181724 0.00148783 0.00134625 0.00200836 0.00299613\n 0.00134625 0.00200836 0.00110221 0.00181724 0.00299613 0.00164431\n 0.00164431 0.00099732 0.0044697  0.00404435 0.00299613 0.00221959\n 0.00404435 0.00221959 0.00299613 0.00221959 0.00134625 0.00221959\n 0.00164431 0.00200836 0.00200836 0.00245302 0.00245302 0.00148783\n 0.00164431 0.00299613 0.00245302 0.00331123 0.00181724 0.00200836\n 0.00331123 0.00181724 0.00110221 0.00221959 0.00200836 0.00121813\n 0.00110221 0.00200836 0.00221959 0.00164431 0.00221959 0.00134625\n 0.00271101 0.00200836 0.01483991 0.00814432 0.01342771 0.00331123\n 0.00900086 0.00404435 0.00736928 0.00181724 0.00994749 0.00245302\n 0.00200836 0.00493978 0.0054593  0.00603346 0.00365948 0.01099368\n 0.00365948 0.0044697  0.006668   0.00365948 0.00493978 0.00603346\n 0.00736928 0.00603346 0.00814432 0.00994749 0.01214989 0.01099368\n 0.0054593  0.00404435 0.00331123 0.00331123 0.0044697  0.0054593\n 0.00299613 0.0054593  0.01099368 0.00736928 0.00365948 0.00331123\n 0.00331123 0.00603346 0.0044697  0.00200836 0.00365948 0.00404435\n 0.00404435 0.006668   0.00221959 0.00404435 0.00736928 0.0044697\n 0.01640064 0.00736928 0.00900086 0.02704008 0.00181724 0.02003179\n 0.01099368 0.01812551 0.00900086 0.00814432 0.01214989 0.00404435\n 0.0044697  0.00814432 0.00900086 0.02988391 0.02988391 0.0054593\n 0.01342771 0.00365948 0.02988391 0.00736928 0.01099368 0.01812551\n 0.006668   0.00603346 0.00814432 0.01812551 0.02213855 0.0365003\n 0.00814432 0.00736928 0.00603346 0.02988391 0.00736928 0.00814432\n 0.0054593  0.01342771 0.01099368 0.01342771 0.0044697  0.01214989\n 0.01099368 0.01099368 0.00736928 0.00900086 0.006668   0.00493978]\n0.9999999999999997\n"
     ]
    }
   ],
   "source": [
    "import pandas as pd \n",
    "import numpy as np \n",
    "from scipy.special import softmax\n",
    "\n",
    "df = pd.read_csv(r'data\\iris.csv', header=0)\n",
    "df_array = df.to_numpy()\n",
    "#print(df)\n",
    "\n",
    "\n",
    "def softmax_1(x):\n",
    "    x = list(df_array[:,0])\n",
    "    exps = [np.exp(i) for i in x]\n",
    "    sum_of_exps = sum(exps)\n",
    "    return exps / sum_of_exps\n",
    "\n",
    "print(softmax_1(x))\n",
    "print(sum(softmax_1(x)))"
   ]
  },
  {
   "cell_type": "code",
   "execution_count": 152,
   "metadata": {},
   "outputs": [
    {
     "output_type": "stream",
     "name": "stdout",
     "text": [
      "[0.00221959 0.00181724 0.00148783 0.00134625 0.00200836 0.00299613\n 0.00134625 0.00200836 0.00110221 0.00181724 0.00299613 0.00164431\n 0.00164431 0.00099732 0.0044697  0.00404435 0.00299613 0.00221959\n 0.00404435 0.00221959 0.00299613 0.00221959 0.00134625 0.00221959\n 0.00164431 0.00200836 0.00200836 0.00245302 0.00245302 0.00148783\n 0.00164431 0.00299613 0.00245302 0.00331123 0.00181724 0.00200836\n 0.00331123 0.00181724 0.00110221 0.00221959 0.00200836 0.00121813\n 0.00110221 0.00200836 0.00221959 0.00164431 0.00221959 0.00134625\n 0.00271101 0.00200836 0.01483991 0.00814432 0.01342771 0.00331123\n 0.00900086 0.00404435 0.00736928 0.00181724 0.00994749 0.00245302\n 0.00200836 0.00493978 0.0054593  0.00603346 0.00365948 0.01099368\n 0.00365948 0.0044697  0.006668   0.00365948 0.00493978 0.00603346\n 0.00736928 0.00603346 0.00814432 0.00994749 0.01214989 0.01099368\n 0.0054593  0.00404435 0.00331123 0.00331123 0.0044697  0.0054593\n 0.00299613 0.0054593  0.01099368 0.00736928 0.00365948 0.00331123\n 0.00331123 0.00603346 0.0044697  0.00200836 0.00365948 0.00404435\n 0.00404435 0.006668   0.00221959 0.00404435 0.00736928 0.0044697\n 0.01640064 0.00736928 0.00900086 0.02704008 0.00181724 0.02003179\n 0.01099368 0.01812551 0.00900086 0.00814432 0.01214989 0.00404435\n 0.0044697  0.00814432 0.00900086 0.02988391 0.02988391 0.0054593\n 0.01342771 0.00365948 0.02988391 0.00736928 0.01099368 0.01812551\n 0.006668   0.00603346 0.00814432 0.01812551 0.02213855 0.0365003\n 0.00814432 0.00736928 0.00603346 0.02988391 0.00736928 0.00814432\n 0.0054593  0.01342771 0.01099368 0.01342771 0.0044697  0.01214989\n 0.01099368 0.01099368 0.00736928 0.00900086 0.006668   0.00493978]\n"
     ]
    },
    {
     "output_type": "execute_result",
     "data": {
      "text/plain": [
       "1.0000000000000007"
      ]
     },
     "metadata": {},
     "execution_count": 152
    }
   ],
   "source": [
    "import pandas as pd \n",
    "import numpy as np \n",
    "from scipy.special import softmax\n",
    "\n",
    "df = pd.read_csv(r'data\\iris.csv', header=0)\n",
    "df_array = df.to_numpy()\n",
    "#print(df)\n",
    "\n",
    "\n",
    "x = list(df_array[:,0])\n",
    "\n",
    "\n",
    "m = softmax(x)\n",
    "print(m)\n",
    "m.sum()\n",
    "#print(sum(softmax))\n",
    "\n"
   ]
  },
  {
   "cell_type": "markdown",
   "metadata": {},
   "source": [
    "## Exercise 4: unique counts\n",
    "\n",
    "\n",
    "Compute the counts of unique values row-wise.\n",
    "\n",
    "Input:\n",
    "```\n",
    "np.random.seed(100)\n",
    "arr = np.random.randint(1,11,size=(6, 10))\n",
    "arr\n",
    "> array([[ 9,  9,  4,  8,  8,  1,  5,  3,  6,  3],\n",
    ">        [ 3,  3,  2,  1,  9,  5,  1, 10,  7,  3],\n",
    ">        [ 5,  2,  6,  4,  5,  5,  4,  8,  2,  2],\n",
    ">        [ 8,  8,  1,  3, 10, 10,  4,  3,  6,  9],\n",
    ">        [ 2,  1,  8,  7,  3,  1,  9,  3,  6,  2],\n",
    ">        [ 9,  2,  6,  5,  3,  9,  4,  6,  1, 10]])\n",
    "```\n",
    "Desired Output:\n",
    "```\n",
    "> [[1, 0, 2, 1, 1, 1, 0, 2, 2, 0],\n",
    ">  [2, 1, 3, 0, 1, 0, 1, 0, 1, 1],\n",
    ">  [0, 3, 0, 2, 3, 1, 0, 1, 0, 0],\n",
    ">  [1, 0, 2, 1, 0, 1, 0, 2, 1, 2],\n",
    ">  [2, 2, 2, 0, 0, 1, 1, 1, 1, 0],\n",
    ">  [1, 1, 1, 1, 1, 2, 0, 0, 2, 1]]\n",
    "```\n",
    "Output contains 10 columns representing numbers from 1 to 10. The values are the counts of the numbers in the respective rows.\n",
    "For example, Cell(0,2) has the value 2, which means, the number 3 occurs exactly 2 times in the 1st row."
   ]
  },
  {
   "cell_type": "code",
   "execution_count": 1,
   "metadata": {},
   "outputs": [
    {
     "output_type": "stream",
     "name": "stdout",
     "text": [
      "[[2 0 1 2 0 1 1 2 1 0]\n [3 0 1 2 1 1 0 1 1 0]\n [3 3 1 2 0 0 0 1 0 0]\n [2 0 1 2 2 0 1 0 1 1]\n [2 2 1 1 2 0 1 0 1 0]\n [2 1 2 1 1 0 1 0 1 1]]\n"
     ]
    }
   ],
   "source": [
    "import numpy as np \n",
    "np.random.seed(100)\n",
    "arr = np.random.randint(1,11,size=(6, 10))\n",
    "#print(arr)\n",
    "def unique_count(a):\n",
    "     args = np.argsort(a)\n",
    "     unique = a[np.indices(a.shape)[0], args]\n",
    "     changes = np.pad(unique[:, 1:] != unique[:, :-1], ((0, 0), (1, 0)), mode=\"constant\", constant_values=1)\n",
    "     idxs = np.nonzero(changes)\n",
    "     tmp = np.hstack((idxs[-1], 0))\n",
    "     counts = np.where(tmp[1:], np.diff(tmp), a.shape[-1]-tmp[:-1])\n",
    "     count_array = np.zeros(a.shape, dtype=\"int\")\n",
    "     count_array[(idxs[0], args[idxs])] = counts\n",
    "     return count_array\n",
    "print(unique_count(arr))\n"
   ]
  },
  {
   "cell_type": "markdown",
   "metadata": {},
   "source": [
    "## Exercise 5: One-Hot encodings\n",
    "\n",
    "Compute the one-hot encodings (AKA dummy binary variables) for each unique value in the array.\n",
    "\n",
    "Input:\n",
    "```\n",
    "np.random.seed(101) \n",
    "arr = np.random.randint(1,4, size=6)\n",
    "arr\n",
    "#> array([2, 3, 2, 2, 2, 1])\n",
    "```\n",
    "Output:\n",
    "```\n",
    "#> array([[ 0.,  1.,  0.],\n",
    "#>        [ 0.,  0.,  1.],\n",
    "#>        [ 0.,  1.,  0.],\n",
    "#>        [ 0.,  1.,  0.],\n",
    "#>        [ 0.,  1.,  0.],\n",
    "#>        [ 1.,  0.,  0.]])\n",
    "```"
   ]
  },
  {
   "cell_type": "code",
   "execution_count": 133,
   "metadata": {},
   "outputs": [
    {
     "output_type": "stream",
     "name": "stdout",
     "text": [
      "[3 2 3 1 2 2]\n[0 1 2 3 4 5]\n[[0. 0. 0. 1.]\n [0. 0. 1. 0.]\n [0. 0. 0. 1.]\n [0. 1. 0. 0.]\n [0. 0. 1. 0.]\n [0. 0. 1. 0.]]\n"
     ]
    }
   ],
   "source": [
    "import numpy as np \n",
    "\n",
    "arr = np.random.randint(1,4, size=6)\n",
    "print(arr)\n",
    "shape = (arr.size, arr.max() + 1)\n",
    "one_hot = np.zeros(shape)\n",
    "rows = np.arange(arr.size)\n",
    "print(rows)\n",
    "one_hot[rows, arr] = 1\n",
    "print(one_hot)"
   ]
  },
  {
   "cell_type": "markdown",
   "metadata": {},
   "source": [
    "## Exercise 6\n",
    "\n",
    "Let `q` be a NumPy array of length `n` with `q.sum() == 1`.\n",
    "\n",
    "Suppose that `q` represents a [probability mass function](https://en.wikipedia.org/wiki/Probability_mass_function) over a statistical distribution. Recall that a distribution is an array of probabilities of events.\n",
    "\n",
    "We want to generate a discrete random variable $ x $ such that $ \\mathbb P\\{x = i\\} = q_i $.\n",
    "\n",
    "In other words, `x` takes values in `range(len(q))` and `x = i` with probability `q[i]`.\n",
    "\n",
    "The standard (inverse transform) algorithm is as follows:\n",
    "\n",
    "- Divide the unit interval $ [0, 1] $ into $ n $ subintervals $ I_0, I_1, \\ldots, I_{n-1} $ such that the length of $ I_i $ is $ q_i $.  \n",
    "- Draw a uniform random variable $ U $ on $ [0, 1] $ and return the $ i $ such that $ U \\in I_i $.  \n",
    "\n",
    "\n",
    "The probability of drawing $ i $ is the length of $ I_i $, which is equal to $ q_i $.\n",
    "\n",
    "We can implement the algorithm as follows\n",
    "\n",
    "```python\n",
    "from random import uniform\n",
    "\n",
    "def sample(q):\n",
    "    a = 0.0\n",
    "    U = uniform(0, 1)\n",
    "    for i in range(len(q)):\n",
    "        if a < U <= a + q[i]:\n",
    "            return i\n",
    "        a = a + q[i]\n",
    "```\n",
    "\n",
    "If you can’t see how this works, try thinking through the flow for a simple example, such as `q = [0.25, 0.75]`\n",
    "It helps to sketch the intervals on paper.\n",
    "\n",
    "**Your exercise is to speed it up using NumPy, avoiding explicit loops**\n",
    "\n",
    "- Hint: Use `np.searchsorted` and `np.cumsum`  \n",
    "\n",
    "\n",
    "If you can, implement the functionality as a class called `DiscreteRV`, where\n",
    "\n",
    "- the data for an instance of the class is the vector of probabilities `q`  \n",
    "- the class has a `draw()` method, which returns one draw according to the algorithm described above  \n",
    "\n",
    "\n",
    "If you can, write the method so that `draw(k)` returns `k` draws from `q`."
   ]
  },
  {
   "cell_type": "code",
   "execution_count": 196,
   "metadata": {},
   "outputs": [],
   "source": [
    "from random import uniform\n",
    "\n",
    "def sample(q):\n",
    "    a = 0.0\n",
    "    U = uniform(0, 1)\n",
    "    for i in range(len(q)):\n",
    "        if a < U <= a + q[i]:\n",
    "            return i\n",
    "        a = a + q[i]\n"
   ]
  },
  {
   "cell_type": "code",
   "execution_count": 18,
   "metadata": {},
   "outputs": [
    {
     "output_type": "stream",
     "name": "stdout",
     "text": [
      "0.1623004954638283\n0\n"
     ]
    }
   ],
   "source": [
    "import numpy as np \n",
    "from random import uniform\n",
    "q = [0.25, 0.75]\n",
    "U = uniform(0,1)\n",
    "p = np.cumsum(q) #find the cumulative sum \n",
    "#searchsorted to insert U into p, to find index for which this insertion wont break the order of array\n",
    "a = np.searchsorted(p, U)\n",
    "print(U)\n",
    "print(a)"
   ]
  },
  {
   "cell_type": "markdown",
   "metadata": {},
   "source": [
    "## Exercise 7 Peaks (stretch goal)\n",
    "\n",
    "Find all the peaks in a 1D numpy array a. Peaks are points surrounded by smaller values on both sides.\n",
    "\n",
    "Input:\n",
    "```\n",
    "a = np.array([1, 3, 7, 1, 2, 6, 0, 1])\n",
    "```\n",
    "Desired Output:\n",
    "```\n",
    "#> array([2, 5])\n",
    "```\n",
    "where, 2 and 5 are the positions of peak values 7 and 6.\n",
    "\n",
    "### 1. Solve this usign a regular python for loop\n",
    "\n",
    "### 2. Solve this using no loops and only numpy functions"
   ]
  },
  {
   "cell_type": "code",
   "execution_count": 195,
   "metadata": {},
   "outputs": [],
   "source": [
    "def peaks_1(ar):\n",
    "    i, up = 0, False\n",
    "    for j in range(1, len(ar)):\n",
    "        prev, val = ar[j-1], ar[j]\n",
    "        if up and val < prev:\n",
    "            yield prev, i\n",
    "            up = False\n",
    "        if val > prev:\n",
    "            i, up = j, True\n"
   ]
  },
  {
   "cell_type": "code",
   "execution_count": 171,
   "metadata": {},
   "outputs": [
    {
     "output_type": "stream",
     "name": "stdout",
     "text": [
      "[(7, 2), (6, 5)]\n"
     ]
    }
   ],
   "source": []
  },
  {
   "cell_type": "code",
   "execution_count": null,
   "metadata": {},
   "outputs": [],
   "source": []
  },
  {
   "cell_type": "code",
   "execution_count": null,
   "metadata": {},
   "outputs": [],
   "source": []
  }
 ],
 "metadata": {
  "date": 1597540028.6350708,
  "filename": "numpy.rst",
  "kernelspec": {
   "display_name": "Python 3",
   "language": "python",
   "name": "python3"
  },
  "language_info": {
   "codemirror_mode": {
    "name": "ipython",
    "version": 3
   },
   "file_extension": ".py",
   "mimetype": "text/x-python",
   "name": "python",
   "nbconvert_exporter": "python",
   "pygments_lexer": "ipython3",
   "version": "3.8.3-final"
  },
  "next_doc": {
   "link": "matplotlib",
   "title": "Matplotlib"
  },
  "prev_doc": {
   "link": "need_for_speed",
   "title": "Python for Scientific Computing"
  },
  "title": "NumPy"
 },
 "nbformat": 4,
 "nbformat_minor": 2
}