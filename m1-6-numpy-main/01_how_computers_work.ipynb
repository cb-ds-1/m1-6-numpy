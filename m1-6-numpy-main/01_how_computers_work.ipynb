{
 "cells": [
  {
   "cell_type": "markdown",
   "metadata": {},
   "source": [
    "# How Computers Work\n",
    "\n",
    "To write good software, you have to understand the platform you software runs on.\n",
    "\n",
    "Let's learn how a computer works! Basically all computers when decomposed look like this:\n",
    "\n",
    "![](computer_cross-section.gif)\n",
    "\n",
    "We can reorganize this into a diagram of how things are connected:\n",
    "\n",
    "![](computer_layout.jpg)\n",
    "\n",
    "Various systems (hard disks, RAM, internet connections, mouse/keyboard, etc.) feed in **data** and **instructions** to the CPU for it to process, which it will then output back to one of the systems (internet, RAM, screen, etc.)\n",
    "\n",
    "Most computer programs end up in an **assembly language** before being fed to the processor as instructions and data to apply the instructions on. It looks like this:\n",
    "\n",
    "![](dcache_icache.png)\n",
    "\n",
    "We can even see this for ourselves! Some tools like https://godbolt.org/ help you see the assembly directly from code in \"native\" languages (programming languages like C, C++, Rust, D and Go that are compiled directly to computer assembly).\n",
    "\n",
    "### Binary Files\n",
    "\n",
    "You can also see this if you try to open some computer files that are in a \"binary\" format in a text editor. The 1's and 0's try to get interpreted as text and you see garbage instead. for a computer, instructions are also data!\n",
    "\n",
    "If you somehow point the instructions to the wrong data, all sorts of weird thing can end up happening. For instance, old video games have famous *glitches* which descend from this fact:\n",
    "\n",
    "![](pokemon_glitch_city.png)"
   ]
  },
  {
   "cell_type": "markdown",
   "metadata": {},
   "source": [
    "# Binary Data types\n",
    "\n",
    "Numbers in in computers have to be represented as series of `1`s and `0`s. This is done using a **binary encoding**:\n",
    "\n",
    "![](binary_integer.png)\n",
    "\n",
    "The first bit adds 0 or 1. The second adds 0 or 2, the third 0 or 4, etc. in powers of 2. Notice `1 + 2 = 3` so the first two bits cover all the numbers below the third bit. This is always true, so all numbers below $2^{n bits}$ are possible.\n",
    "\n",
    "There are **signed** and **unsigned** numbers, the first reserve a bit for the negative sign, the other use all the bits for positive numbers starting at 0.\n",
    "\n",
    "# Floats\n",
    "\n",
    "FLoating point numbers are more complex. They allocate bits to various parts to try to best represent all possible values:\n",
    "\n",
    "![](floating_point.png)\n",
    "\n",
    "Note that floating point numbers are **inexact by nature**. So you get surprising behaviors like:"
   ]
  },
  {
   "cell_type": "code",
   "execution_count": 4,
   "metadata": {},
   "outputs": [
    {
     "name": "stdout",
     "output_type": "stream",
     "text": [
      "0.30000000000000004\n"
     ]
    },
    {
     "data": {
      "text/plain": [
       "False"
      ]
     },
     "execution_count": 4,
     "metadata": {},
     "output_type": "execute_result"
    }
   ],
   "source": [
    "print(0.1 + 0.2)\n",
    "0.3 == (0.1 + 0.2)"
   ]
  },
  {
   "cell_type": "code",
   "execution_count": 5,
   "metadata": {},
   "outputs": [],
   "source": [
    "#Assume floating points don't equal what you think because (above) "
   ]
  },
  {
   "cell_type": "markdown",
   "metadata": {},
   "source": [
    "# Text\n",
    "\n",
    "Back in the 1970s all computer scientists were American so they figured we only needed the english latin alphabet and a few additional symbols packed into a byte (8 bits):\n",
    "\n",
    "![](ascii_table.png)\n",
    "\n",
    "That's the last time anyone agreed on how to represent text until the 2010s. Since a lot of people want text for different things than english, of which there are more than 255 symbols, they tried UTF-16 and UTF-32 but ended up with [UTF-8](https://www.youtube.com/watch?v=MijmeoH9LT4) which is quite a genious solution to the problem."
   ]
  },
  {
   "cell_type": "code",
   "execution_count": null,
   "metadata": {},
   "outputs": [],
   "source": []
  },
  {
   "cell_type": "markdown",
   "metadata": {},
   "source": [
    "# The Memory Hierarchy \n",
    "\n",
    "The reason computers are fast is because the basic operations happen billions of times per second. The hard part is feeding in the data for the operations.\n",
    "\n",
    "You can't have a lot of data stored in a fast way. So we end up with a hierarchy of successfully faster pieces of memory.\n",
    "\n",
    "![](memory_hierarchy.png)\n",
    "\n",
    "Accessing each other one is orders of magnitude slower. While the CPU acts in less than one **nanosecond**, it can take 1/5 of a **millisecond** to do a roundtrip to RAM and back\n",
    "\n",
    "Python is mainly slow because everything has to do round trips to RAM everywhere. Moreover, the language is **interpreted** instead of being compiled (so each command is read, parsed, and executed every time)"
   ]
  },
  {
   "cell_type": "code",
   "execution_count": 12,
   "metadata": {},
   "outputs": [
    {
     "name": "stdout",
     "output_type": "stream",
     "text": [
      "39.5 µs ± 624 ns per loop (mean ± std. dev. of 7 runs, 10000 loops each)\n"
     ]
    }
   ],
   "source": [
    "import numpy as np\n",
    "def loop_fetch_python(arr):\n",
    "    res = 0\n",
    "    for i in range(1000):\n",
    "        res += arr[i]\n",
    "    return res\n",
    "\n",
    "a = np.random.rand(10_000_000)\n",
    "loop_fetch_evil(a) # pre-compile the benchmark function\n",
    "%timeit loop_fetch_evil(a)"
   ]
  },
  {
   "cell_type": "markdown",
   "metadata": {},
   "source": [
    "here a lot of the slowness comes from the python variables being accessed over and over.\n",
    "\n",
    "This would be even slower if we used a python `list` because the memory of the array would be fragmented."
   ]
  },
  {
   "cell_type": "code",
   "execution_count": 11,
   "metadata": {},
   "outputs": [
    {
     "name": "stdout",
     "output_type": "stream",
     "text": [
      "1.47 µs ± 4.95 ns per loop (mean ± std. dev. of 7 runs, 1000000 loops each)\n"
     ]
    }
   ],
   "source": [
    "from numba import jit\n",
    "\n",
    "@jit(nopython=True)\n",
    "def loop_fetch(arr):\n",
    "    res = 0\n",
    "    for i in range(1000):\n",
    "        res += arr[i]\n",
    "    return res\n",
    "\n",
    "a = np.random.rand(10_000_000)\n",
    "\n",
    "loop_fetch(a) # pre-compile the benchmark function\n",
    "\n",
    "%timeit loop_fetch(a)"
   ]
  },
  {
   "cell_type": "markdown",
   "metadata": {},
   "source": [
    "The numba directive just says to compile the code to a fast binary (instead of an interpreted python code)\n",
    "\n",
    "The version above is simple -- on every loop we pull the next number. Since the next place in memory is likely to be in the cache, it's very fast.\n",
    "\n",
    "The version below is **evil**.\n",
    "\n",
    "On every iteration of the loop, we jump to a random place in the big array and hence we miss the CPU's cache"
   ]
  },
  {
   "cell_type": "code",
   "execution_count": 7,
   "metadata": {},
   "outputs": [
    {
     "name": "stdout",
     "output_type": "stream",
     "text": [
      "38.5 µs ± 1.16 µs per loop (mean ± std. dev. of 7 runs, 10000 loops each)\n"
     ]
    }
   ],
   "source": [
    "@jit(nopython=True)\n",
    "def loop_fetch_evil(arr):\n",
    "    res = 0\n",
    "    for i in range(1000):\n",
    "        res += arr[np.random.randint(arr.size)]\n",
    "    return res\n",
    "\n",
    "a = np.random.rand(10_000_000)\n",
    "\n",
    "loop_fetch_evil(a) # pre-compile the benchmark function\n",
    "\n",
    "%timeit loop_fetch_evil(a)"
   ]
  },
  {
   "cell_type": "code",
   "execution_count": 9,
   "metadata": {},
   "outputs": [
    {
     "name": "stdout",
     "output_type": "stream",
     "text": [
      "7.58 µs ± 71.6 ns per loop (mean ± std. dev. of 7 runs, 100000 loops each)\n"
     ]
    }
   ],
   "source": [
    "# Now it fits in the CPU cache, it'll be fast again\n",
    "a = np.random.rand(100)\n",
    "loop_fetch_evil(a) # pre-compile the benchmark function\n",
    "%timeit loop_fetch_evil(a)"
   ]
  },
  {
   "cell_type": "code",
   "execution_count": null,
   "metadata": {},
   "outputs": [],
   "source": []
  }
 ],
 "metadata": {
  "colab": {
   "authorship_tag": "ABX9TyPj6kMcKGWkLDGDflPa040g",
   "collapsed_sections": [],
   "name": "Computers and fast code.ipynb",
   "provenance": []
  },
  "kernelspec": {
   "display_name": "Python 3",
   "language": "python",
   "name": "python3"
  },
  "language_info": {
   "codemirror_mode": {
    "name": "ipython",
    "version": 3
   },
   "file_extension": ".py",
   "mimetype": "text/x-python",
   "name": "python",
   "nbconvert_exporter": "python",
   "pygments_lexer": "ipython3",
   "version": "3.8.3"
  }
 },
 "nbformat": 4,
 "nbformat_minor": 1
}
